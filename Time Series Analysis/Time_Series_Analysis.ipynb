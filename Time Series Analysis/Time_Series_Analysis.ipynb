{
 "cells": [
  {
   "cell_type": "markdown",
   "id": "2b22b96f-18b7-43a6-8d53-9aa4ccbd391c",
   "metadata": {},
   "source": [
    "Time stamps for particular points in the time line (e.g., July 4th, 2015 at 7:00am)\n",
    "Time interval or period consists of uniform length and does not overlap  (e.g. year 1975)\n",
    "Time deltas or duration is the exact length of time which is equal to the difference between start and end points  (e.g. a duration of a second, minute, hour, day, week, month, year, decade, millennium)\n"
   ]
  },
  {
   "cell_type": "markdown",
   "id": "9eb7d374-a038-451a-aa2b-630aa62b23df",
   "metadata": {},
   "source": [
    "The `strftime()` function is a method in Python's `datetime` module that stands for \"string format time.\" It's used to format `datetime` objects into human-readable strings. This function takes a format string as an argument, specifying how the date and time should be represented, and returns a formatted string.\n",
    "\n",
    "Here's a basic example:\n",
    "\n",
    "```python\n",
    "from datetime import datetime\n",
    "\n",
    "# Get the current date and time\n",
    "current_datetime = datetime.now()\n",
    "\n",
    "# Format the datetime object using strftime\n",
    "formatted_string = current_datetime.strftime(\"%Y-%m-%d %H:%M:%S\")\n",
    "\n",
    "print(\"Formatted String:\", formatted_string)\n",
    "```\n",
    "\n",
    "In this example, the format string `\"%Y-%m-%d %H:%M:%S\"` is used to represent the datetime as \"Year-Month-Day Hour:Minute:Second.\" You can customize the format string according to your requirements using various format codes, such as `%Y` for the year, `%m` for the month, `%d` for the day, `%H` for the hour, `%M` for the minute, and `%S` for the second.\n",
    "\n",
    "Here are some common format codes:\n",
    "\n",
    "- `%Y`: Year with century as a decimal number.\n",
    "- `%m`: Month as a zero-padded decimal number.\n",
    "- `%d`: Day of the month as a zero-padded decimal number.\n",
    "- `%H`: Hour (00 to 23).\n",
    "- `%M`: Minute (00 to 59).\n",
    "- `%S`: Second (00 to 59).\n",
    "\n",
    "The `strftime()` function is particularly useful when you need to display or log dates and times in a specific human-readable format."
   ]
  },
  {
   "cell_type": "code",
   "execution_count": 1,
   "id": "8c456f5b-111b-435e-b058-fe9fb7526021",
   "metadata": {
    "tags": []
   },
   "outputs": [
    {
     "name": "stdout",
     "output_type": "stream",
     "text": [
      "Formatted String: 2023-11-25 11:15:48\n"
     ]
    }
   ],
   "source": [
    "from datetime import datetime\n",
    "\n",
    "# Get the current date and time\n",
    "current_datetime = datetime.now()\n",
    "\n",
    "# Format the datetime object using strftime\n",
    "formatted_string = current_datetime.strftime(\"%Y-%m-%d %H:%M:%S\")\n",
    "\n",
    "print(\"Formatted String:\", formatted_string)"
   ]
  },
  {
   "cell_type": "code",
   "execution_count": null,
   "id": "9dc7a2a8-b16e-4f45-84e5-5a3b567b71da",
   "metadata": {},
   "outputs": [],
   "source": []
  }
 ],
 "metadata": {
  "kernelspec": {
   "display_name": "Python 3 (ipykernel)",
   "language": "python",
   "name": "python3"
  },
  "language_info": {
   "codemirror_mode": {
    "name": "ipython",
    "version": 3
   },
   "file_extension": ".py",
   "mimetype": "text/x-python",
   "name": "python",
   "nbconvert_exporter": "python",
   "pygments_lexer": "ipython3",
   "version": "3.11.4"
  }
 },
 "nbformat": 4,
 "nbformat_minor": 5
}
