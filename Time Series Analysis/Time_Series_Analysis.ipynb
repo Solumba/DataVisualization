{
 "cells": [
  {
   "cell_type": "code",
   "execution_count": 10,
   "id": "969032a9-78d2-4eea-b762-358d0734885c",
   "metadata": {
    "tags": []
   },
   "outputs": [],
   "source": [
    "import datetime as dtime\n",
    "from datetime import timedelta\n",
    "import time\n",
    "import pandas as pd"
   ]
  },
  {
   "cell_type": "markdown",
   "id": "2b22b96f-18b7-43a6-8d53-9aa4ccbd391c",
   "metadata": {},
   "source": [
    "Time stamps for particular points in the time line (e.g., July 4th, 2015 at 7:00am)\n",
    "Time interval or period consists of uniform length and does not overlap  (e.g. year 1975)\n",
    "Time deltas or duration is the exact length of time which is equal to the difference between start and end points  (e.g. a duration of a second, minute, hour, day, week, month, year, decade, millennium)\n"
   ]
  },
  {
   "cell_type": "markdown",
   "id": "9eb7d374-a038-451a-aa2b-630aa62b23df",
   "metadata": {},
   "source": [
    "The `strftime()` function is a method in Python's `datetime` module that stands for \"string format time.\" It's used to format `datetime` objects into human-readable strings. This function takes a format string as an argument, specifying how the date and time should be represented, and returns a formatted string.\n",
    "\n",
    "Here's a basic example:\n",
    "\n",
    "```python\n",
    "from datetime import datetime\n",
    "\n",
    "# Get the current date and time\n",
    "current_datetime = datetime.now()\n",
    "\n",
    "# Format the datetime object using strftime\n",
    "formatted_string = current_datetime.strftime(\"%Y-%m-%d %H:%M:%S\")\n",
    "\n",
    "print(\"Formatted String:\", formatted_string)\n",
    "```\n",
    "\n",
    "In this example, the format string `\"%Y-%m-%d %H:%M:%S\"` is used to represent the datetime as \"Year-Month-Day Hour:Minute:Second.\" You can customize the format string according to your requirements using various format codes, such as `%Y` for the year, `%m` for the month, `%d` for the day, `%H` for the hour, `%M` for the minute, and `%S` for the second.\n",
    "\n",
    "Here are some common format codes:\n",
    "\n",
    "- `%Y`: Year with century as a decimal number.\n",
    "- `%m`: Month as a zero-padded decimal number.\n",
    "- `%d`: Day of the month as a zero-padded decimal number.\n",
    "- `%H`: Hour (00 to 23).\n",
    "- `%M`: Minute (00 to 59).\n",
    "- `%S`: Second (00 to 59).\n",
    "\n",
    "The `strftime()` function is particularly useful when you need to display or log dates and times in a specific human-readable format."
   ]
  },
  {
   "cell_type": "code",
   "execution_count": 6,
   "id": "8c456f5b-111b-435e-b058-fe9fb7526021",
   "metadata": {
    "tags": []
   },
   "outputs": [
    {
     "name": "stdout",
     "output_type": "stream",
     "text": [
      "2023-11-25 12:06:51\n",
      "11/25/23 12:06:51\n",
      "Sat Nov 25 12:06:51 2023\n",
      "Unix Timestamp 1  1700914011.0\n",
      "Datetime as unix 2: 1700914011.693862\n",
      "DateTime from Unix timestamp 3:  2023-11-25 12:06:51.693862\n",
      "\n",
      "\n",
      "2023-11-25 12:06:51\n",
      "11/25/23 12:06:51\n",
      "Sat Nov 25 12:06:51 2023\n"
     ]
    }
   ],
   "source": [
    "#Different date and time formats\n",
    "#Use datetime\n",
    "ts = dtime.datetime.now()\n",
    "print(ts.strftime(\"%Y-%m-%d %H:%M:%S\"))\n",
    "print(ts.strftime(\"%x %X\"))\n",
    " \n",
    "#ISO format for datetime libraries\n",
    "print(ts.strftime(\"%c\"))\n",
    " \n",
    "# Unix timestamp\n",
    "print(\"Unix Timestamp 1 \",(time.mktime(ts.timetuple())))\n",
    " \n",
    "# Get Unix timestamp from a datetime object\n",
    "datetime_unix_time = ts.timestamp()\n",
    "print('Datetime as unix 2:', datetime_unix_time)\n",
    " \n",
    "# Convert Unix timestamp to datetime object\n",
    "timestamp = dtime.datetime.fromtimestamp(datetime_unix_time)\n",
    "print('DateTime from Unix timestamp 3: ', timestamp)\n",
    "\n",
    "#================================================\n",
    "#Use time \n",
    "#for greenwich meridian time\n",
    "ts1 = time.gmtime()\n",
    "print(\"\\n\")\n",
    "print(time.strftime(\"%Y-%m-%d %H:%M:%S\", ts1))\n",
    "print(time.strftime(\"%x %X\", ts1))\n",
    " \n",
    "# Iso Format for time libraries\n",
    "print(time.strftime(\"%c\", ts1))\n"
   ]
  },
  {
   "cell_type": "markdown",
   "id": "72b1360c-499f-4699-92f1-8bbfb6b3b7f1",
   "metadata": {},
   "source": [
    "The following code obtains current day, date and time dsiplay. This is useful for real time sensor data."
   ]
  },
  {
   "cell_type": "code",
   "execution_count": 7,
   "id": "9dc7a2a8-b16e-4f45-84e5-5a3b567b71da",
   "metadata": {
    "tags": []
   },
   "outputs": [
    {
     "name": "stdout",
     "output_type": "stream",
     "text": [
      "Current day is  Saturday\n",
      "It is Day number  6  of the week\n",
      "Current date is  25/11/2023\n",
      "Another format for current date is  25-November-2023\n",
      "Current time in 24-hour format is  12:06:54\n"
     ]
    }
   ],
   "source": [
    "now = dtime.datetime.now()\n",
    "print(\"Current day is \", now.strftime(\"%A\"))\n",
    "print(\"It is Day number \", now.strftime(\"%w\"), \" of the week\")\n",
    "print(\"Current date is \", now.strftime(\"%d/%m/%Y\"))\n",
    "print(\"Another format for current date is \", now.strftime(\"%d-%B-%Y\"))\n",
    "print(\"Current time in 24-hour format is \", now.strftime(\"%H:%M:%S\"))"
   ]
  },
  {
   "cell_type": "code",
   "execution_count": 8,
   "id": "1a341795-5b92-4d60-aac7-f75d23045219",
   "metadata": {
    "tags": []
   },
   "outputs": [
    {
     "name": "stdout",
     "output_type": "stream",
     "text": [
      "It is not midnight now\n",
      "It is not morning now\n",
      "It is not noon now\n",
      "It is afternoon now\n"
     ]
    }
   ],
   "source": [
    "now = dtime.datetime.now()\n",
    "\n",
    "#ctime is current time\n",
    "ctime = now.strftime(\"%H:%M:%S\")\n",
    "mNight = \"00:00:00\"\n",
    "mtime1 = \"00:00:01\"\n",
    "mtime2 = \"11:59:59\"\n",
    "ntime = \"12:00:00\"\n",
    "aftime1 = \"12:00:01\"\n",
    "aftime2 = \"18:00:00\"\n",
    "etime1 = \"18:00:01\"\n",
    "etime2 = \"23:59:59\"\n",
    "\n",
    "#Time of the day\n",
    "if ctime == mNight:\n",
    "    print(\"It is midnight now\")\n",
    "else:\n",
    "    print(\"It is not midnight now\")\n",
    "    if ctime >= mtime1 and ctime <=mtime2:\n",
    "        print(\"It is morning now\")\n",
    "    else:\n",
    "        print(\"It is not morning now\")\n",
    "        if ctime == ntime:\n",
    "            print(\"It is noon now\")\n",
    "        else:\n",
    "            print(\"It is not noon now\")\n",
    "            if ctime >= aftime1 and ctime <=aftime2:\n",
    "                print(\"It is afternoon now\")\n",
    "            else:\n",
    "                print(\"It is not afternoon now\")\n",
    "                if ctime >= etime1 and ctime <=etime2:\n",
    "                    print(\"It is evening now\")\n",
    "                else:\n",
    "                    print(\"It is not evening now\")\n"
   ]
  },
  {
   "cell_type": "code",
   "execution_count": 9,
   "id": "6c4def6c-7553-4182-ac42-90f6f020121f",
   "metadata": {
    "tags": []
   },
   "outputs": [
    {
     "name": "stdin",
     "output_type": "stream",
     "text": [
      "Please enter your date of birth (dd/mm/yyyy)  31/03/1995\n"
     ]
    },
    {
     "name": "stdout",
     "output_type": "stream",
     "text": [
      "1995-03-31 00:00:00\n",
      "10466 days, 14:43:10.261679\n",
      "You are 28 years, 7  months, 26  days, 18  hours, 42  minutes, 27 seconds old.\n"
     ]
    }
   ],
   "source": [
    "#Find your current age\n",
    "# Figure out your age\n",
    "# https://gist.github.com/shahri23/1804a3acb7ffb58a1ec8f1eda304af1a \n",
    "currentDate = dtime.datetime.now()\n",
    "\n",
    "birthdate = input('Please enter your date of birth (dd/mm/yyyy) ')\n",
    "bdate= dtime.datetime.strptime(birthdate,'%d/%m/%Y') #strptime - string to datetime object\n",
    "print (bdate)\n",
    "daysLeft = currentDate - bdate\n",
    "print(daysLeft)\n",
    "\n",
    "#Average number of days per year is 365.242 days\n",
    "years = ((daysLeft.total_seconds())/(365.242*24*3600))\n",
    "yearsInt=int(years)\n",
    "\n",
    "months=(years-yearsInt)*12\n",
    "monthsInt=int(months)\n",
    "\n",
    "days=(months-monthsInt)*(365.242/12)\n",
    "daysInt=int(days)\n",
    "\n",
    "hours = (days-daysInt)*24\n",
    "hoursInt=int(hours)\n",
    "\n",
    "minutes = (hours-hoursInt)*60\n",
    "minutesInt=int(minutes)\n",
    "\n",
    "seconds = (minutes-minutesInt)*60\n",
    "secondsInt =int(seconds)\n",
    "\n",
    "#0:d - the first argument in the tuple and in decimal format, i.e. yearsInt, etc...\n",
    "print('You are {0:d} years, {1:d}  months, {2:d}  days, {3:d}  hours, {4:d}  minutes, {5:d} seconds old.'.format(yearsInt, monthsInt, daysInt, hoursInt, minutesInt, secondsInt))\n"
   ]
  },
  {
   "cell_type": "markdown",
   "id": "c527fb67-d7f4-4bee-bd49-81756cc395fe",
   "metadata": {
    "tags": []
   },
   "source": [
    "A timedelta object represents a duration, the difference between two dates or times. The difference between timedelta and relativedelta (next section) is that time delta does not include the arguments for months and years."
   ]
  },
  {
   "cell_type": "code",
   "execution_count": 11,
   "id": "6bb8640f-50bd-480f-9fb0-ac5b06b4db3a",
   "metadata": {
    "tags": []
   },
   "outputs": [
    {
     "name": "stdout",
     "output_type": "stream",
     "text": [
      "Minus 1 second from current datetime \n",
      "2023-11-25 15:45:11.517563\n",
      "2023-11-25 15:45:10.517563\n",
      "\n",
      "\n",
      "Minus 1 minute from current datetime \n",
      "2023-11-25 15:45:11.517563\n",
      "2023-11-25 15:44:11.517563\n",
      "\n",
      "\n",
      "Minus 1 hour from current datetime \n",
      "2023-11-25 15:45:11.517563\n",
      "2023-11-25 14:45:11.517563\n",
      "\n",
      "\n",
      "Minus 1 day from current datetime \n",
      "2023-11-25 15:45:11.517563\n",
      "2023-11-24 15:45:11.517563\n",
      "\n",
      "\n",
      "Minus 22 days from current datetime \n",
      "2023-11-25 15:45:11.517563\n",
      "2023-11-03 15:45:11.517563\n",
      "\n",
      "\n",
      "Minus 1 week from current datetime \n",
      "2023-11-25 15:45:11.517563\n",
      "2023-11-18 15:45:11.517563\n",
      "\n",
      "\n"
     ]
    }
   ],
   "source": [
    "#Time delta\n",
    "\n",
    "#Minus 1 second from current datetime using `timedelta`\n",
    "ctime = dtime.datetime.now()\n",
    "ptime1 = ctime - timedelta(hours=0, minutes=0, seconds=1, microseconds=0)\n",
    "print('Minus 1 second from current datetime ')\n",
    "print(ctime)\n",
    "print(ptime1)\n",
    "print(\"\\n\")\n",
    " \n",
    "#Minus 1 minute from current datetime using `timedelta`\n",
    "ptime2 = ctime - timedelta(hours=0, minutes=1, seconds=0, microseconds=0)\n",
    "print('Minus 1 minute from current datetime ')\n",
    "print(ctime)\n",
    "print(ptime2)\n",
    "print(\"\\n\")\n",
    " \n",
    "#Minus 1 hour from current datetime using `timedelta`\n",
    "ptime3 = ctime - timedelta(hours=1, minutes=0, seconds=0, microseconds=0)\n",
    "print('Minus 1 hour from current datetime ')\n",
    "print(ctime)\n",
    "print(ptime3)\n",
    "print(\"\\n\")\n",
    " \n",
    "#Minus 1 day from current datetime using `timedelta`\n",
    "ptime4 = ctime - timedelta(days=1, hours=0, minutes=0, seconds=0, microseconds=0)\n",
    "print('Minus 1 day from current datetime ')\n",
    "print(ctime)\n",
    "print(ptime4)\n",
    "print(\"\\n\")\n",
    " \n",
    " \n",
    "#Minus 22 days from current datetime using `timedelta`\n",
    "ptime9 = ctime - timedelta(days=22, hours=0, minutes=0, seconds=0, microseconds=0)\n",
    "print('Minus 22 days from current datetime ')\n",
    "print(ctime)\n",
    "print(ptime9)\n",
    "print(\"\\n\")\n",
    " \n",
    " \n",
    "#Minus 1 week from current datetime using `timedelta`\n",
    "ptime5 = ctime - timedelta(weeks=1, days=0, hours=0, minutes=0, seconds=0, microseconds=0)\n",
    "print('Minus 1 week from current datetime ')\n",
    "print(ctime)\n",
    "print(ptime5)\n",
    "print(\"\\n\")\n",
    " \n",
    " \n",
    "#Minus 1 month from current datetime using `timedelta`\n",
    "#Note there is no argument for months\n",
    " \n",
    "#Minus 1 year from current datetime using `timedelta`\n",
    "#Note there is no argument for years\n"
   ]
  },
  {
   "cell_type": "markdown",
   "id": "0dfb2cc0-86aa-4584-afe2-31f7b1c587d6",
   "metadata": {},
   "source": [
    "The relativedelta and timedelta are both useful for date arithmetic, however, the relativedelta is more flexible and supports a wider range of date computations\n",
    "including months and years. "
   ]
  },
  {
   "cell_type": "code",
   "execution_count": 13,
   "id": "0616e9cd-f4bd-414c-a019-3d8f3c5234bc",
   "metadata": {
    "tags": []
   },
   "outputs": [
    {
     "name": "stdout",
     "output_type": "stream",
     "text": [
      "Add 1 second to current datetime \n",
      "2023-11-25 17:18:59.118890\n",
      "2023-11-25 17:19:00.118890\n",
      "\n",
      "\n",
      "Add 1 minute to current datetime \n",
      "2023-11-25 17:18:59.118890\n",
      "2023-11-25 17:19:59.118890\n",
      "\n",
      "\n",
      "Add 1 hour to current datetime \n",
      "2023-11-25 17:18:59.118890\n",
      "2023-11-25 18:18:59.118890\n",
      "\n",
      "\n",
      "Add 1 day to current datetime \n",
      "2023-11-25 17:18:59.118890\n",
      "2023-11-26 17:18:59.118890\n",
      "\n",
      "\n",
      "Add 1 week to current datetime \n",
      "2023-11-25 17:18:59.118890\n",
      "2023-12-02 17:18:59.118890\n",
      "\n",
      "\n",
      "Add 1 month to current datetime \n",
      "2023-11-25 17:18:59.118890\n",
      "2023-12-25 17:18:59.118890\n",
      "\n",
      "\n",
      "Add 1 year to current datetime \n",
      "2023-11-25 17:18:59.118890\n",
      "2024-11-25 17:18:59.118890\n",
      "\n",
      "\n"
     ]
    }
   ],
   "source": [
    "#Relative delta\n",
    "# https://dateutil.readthedocs.io/en/stable/relativedelta.html \n",
    "#https://docs.python.org/3.3/library/datetime.html#timedelta-objects \n",
    "\n",
    "import datetime as dtime\n",
    "from dateutil.relativedelta import *\n",
    "\n",
    "\n",
    "#Add 1 second to current datetime using `relativedelta`\n",
    "ctime = dtime.datetime.now()\n",
    "ftime1 = ctime + relativedelta(hours=0, minutes=0, seconds=1, microseconds=0)\n",
    "print('Add 1 second to current datetime ')\n",
    "print(ctime)\n",
    "print(ftime1)\n",
    "print(\"\\n\")\n",
    "\n",
    "#Add 1 minute to current datetime using `relativedelta`\n",
    "ftime2 = ctime + relativedelta(hours=0, minutes=1, seconds=0, microseconds=0)\n",
    "print('Add 1 minute to current datetime ')\n",
    "print(ctime)\n",
    "print(ftime2)\n",
    "print(\"\\n\")\n",
    "\n",
    "#Add 1 hour to current datetime using `relativedelta`\n",
    "ftime3 = ctime + relativedelta(hours=1, minutes=0, seconds=0, microseconds=0)\n",
    "print('Add 1 hour to current datetime ')\n",
    "print(ctime)\n",
    "print(ftime3)\n",
    "print(\"\\n\")\n",
    "\n",
    "#Add 1 day to current datetime using `relativedelta`\n",
    "ftime4 = ctime + relativedelta(days=1, hours=0, minutes=0, seconds=0, microseconds=0)\n",
    "print('Add 1 day to current datetime ')\n",
    "print(ctime)\n",
    "print(ftime4)\n",
    "print(\"\\n\")\n",
    "\n",
    "#Add 1 week to current datetime using `relativedelta`\n",
    "ftime5 = ctime + relativedelta(weeks=1, days=0, hours=0, minutes=0, seconds=0, microseconds=0)\n",
    "print('Add 1 week to current datetime ')\n",
    "print(ctime)\n",
    "print(ftime5)\n",
    "print(\"\\n\")\n",
    "\n",
    "\n",
    "#Add 1 month to current datetime using `relativedelta`\n",
    "ftime6 = ctime + relativedelta(months=1, weeks=0, days=0, hours=0, minutes=0, seconds=0, microseconds=0)\n",
    "print('Add 1 month to current datetime ')\n",
    "print(ctime)\n",
    "print(ftime6)\n",
    "print(\"\\n\")\n",
    "\n",
    "#Add 1 year to current datetime using `relativedelta`\n",
    "ftime7 = ctime + relativedelta(years=1, months=0, weeks=0, days=0, hours=0, minutes=0, seconds=0, microseconds=0)\n",
    "print('Add 1 year to current datetime ')\n",
    "print(ctime)\n",
    "print(ftime7)\n",
    "print(\"\\n\")\n"
   ]
  },
  {
   "cell_type": "code",
   "execution_count": 14,
   "id": "1b5a590d-a505-45cd-a2e0-cc58149eeec5",
   "metadata": {
    "tags": []
   },
   "outputs": [
    {
     "name": "stdout",
     "output_type": "stream",
     "text": [
      "Minus 1 second from current datetime \n",
      "2023-11-25 17:32:19.617752\n",
      "2023-11-25 17:32:18.617752\n",
      "\n",
      "\n",
      "Minus 1 minute from current datetime \n",
      "2023-11-25 17:32:19.617752\n",
      "2023-11-25 17:31:19.617752\n",
      "\n",
      "\n",
      "Minus 1 hour from current datetime \n",
      "2023-11-25 17:32:19.617752\n",
      "2023-11-25 16:32:19.617752\n",
      "\n",
      "\n",
      "Minus 1 day from current datetime \n",
      "2023-11-25 17:32:19.617752\n",
      "2023-11-24 17:32:19.617752\n",
      "\n",
      "\n",
      "Minus 22 days from current datetime \n",
      "2023-11-25 17:32:19.617752\n",
      "2023-11-03 17:32:19.617752\n",
      "\n",
      "\n",
      "Minus 1 week from current datetime \n",
      "2023-11-25 17:32:19.617752\n",
      "2023-11-18 17:32:19.617752\n",
      "\n",
      "\n",
      "Minus 1 month from current datetime \n",
      "2023-11-25 17:32:19.617752\n",
      "2023-10-25 17:32:19.617752\n",
      "\n",
      "\n",
      "Minus 1 year from current datetime \n",
      "2023-11-25 17:32:19.617752\n",
      "2024-11-25 17:32:19.617752\n",
      "\n",
      "\n"
     ]
    }
   ],
   "source": [
    "#Relative delta\n",
    "# https://dateutil.readthedocs.io/en/stable/relativedelta.html \n",
    "#https://docs.python.org/3.3/library/datetime.html#timedelta-objects \n",
    "\n",
    "import datetime as dtime\n",
    "from dateutil.relativedelta import *\n",
    "\n",
    "\n",
    "#Minus 1 second from current datetime using `relativedelta`\n",
    "ctime = dtime.datetime.now()\n",
    "ptime1 = ctime - relativedelta(hours=0, minutes=0, seconds=1, microseconds=0)\n",
    "print('Minus 1 second from current datetime ')\n",
    "print(ctime)\n",
    "print(ptime1)\n",
    "print(\"\\n\")\n",
    "\n",
    "#Minus 1 minute from current datetime using `relativedelta`\n",
    "ptime2 = ctime - relativedelta(hours=0, minutes=1, seconds=0, microseconds=0)\n",
    "print('Minus 1 minute from current datetime ')\n",
    "print(ctime)\n",
    "print(ptime2)\n",
    "print(\"\\n\")\n",
    "\n",
    "#Minus 1 hour from current datetime using `relativedelta`\n",
    "ptime3 = ctime - relativedelta(hours=1, minutes=0, seconds=0, microseconds=0)\n",
    "print('Minus 1 hour from current datetime ')\n",
    "print(ctime)\n",
    "print(ptime3)\n",
    "print(\"\\n\")\n",
    "\n",
    "#Minus 1 day from current datetime using `relativedelta`\n",
    "ptime4 = ctime - relativedelta(days=1, hours=0, minutes=0, seconds=0, microseconds=0)\n",
    "print('Minus 1 day from current datetime ')\n",
    "print(ctime)\n",
    "print(ptime4)\n",
    "print(\"\\n\")\n",
    "\n",
    "\n",
    "#Minus 22 days from current datetime using `relativedelta`\n",
    "ptime9 = ctime - relativedelta(days=22, hours=0, minutes=0, seconds=0, microseconds=0)\n",
    "print('Minus 22 days from current datetime ')\n",
    "print(ctime)\n",
    "print(ptime9)\n",
    "print(\"\\n\")\n",
    "\n",
    "\n",
    "#Minus 1 week from current datetime using `relativedelta`\n",
    "ptime5 = ctime - relativedelta(weeks=1, days=0, hours=0, minutes=0, seconds=0, microseconds=0)\n",
    "print('Minus 1 week from current datetime ')\n",
    "print(ctime)\n",
    "print(ptime5)\n",
    "print(\"\\n\")\n",
    "\n",
    "\n",
    "#Minus 1 month from current datetime using `relativedelta`\n",
    "ptime6 = ctime - relativedelta(months=1, weeks=0, days=0, hours=0, minutes=0, seconds=0, microseconds=0)\n",
    "print('Minus 1 month from current datetime ')\n",
    "print(ctime)\n",
    "print(ptime6)\n",
    "print(\"\\n\")\n",
    "\n",
    "#Minus 1 year from current datetime using `relativedelta`\n",
    "ptime7 = ctime + relativedelta(years=1, months=0, weeks=0, days=0, hours=0, minutes=0, seconds=0, microseconds=0)\n",
    "print('Minus 1 year from current datetime ')\n",
    "print(ctime)\n",
    "print(ptime7)\n",
    "print(\"\\n\")\n"
   ]
  },
  {
   "cell_type": "code",
   "execution_count": 15,
   "id": "2bf3424a-bf67-42d6-9a34-0063d36875d8",
   "metadata": {
    "tags": []
   },
   "outputs": [
    {
     "name": "stdout",
     "output_type": "stream",
     "text": [
      "2025-09-04 00:00:00\n",
      "\n",
      "\n"
     ]
    }
   ],
   "source": [
    "#Dates and times in pandas\n",
    "date = \"4th of September, 2025\"\n",
    "dTime = pd.to_datetime(date)\n",
    "print(dTime)\n",
    "print(\"\\n\")\n"
   ]
  },
  {
   "cell_type": "code",
   "execution_count": 16,
   "id": "446c42a7-1783-41e4-bf8e-04468e4a75ed",
   "metadata": {
    "tags": []
   },
   "outputs": [
    {
     "name": "stdout",
     "output_type": "stream",
     "text": [
      "2025-09-04 00:00:00\n",
      "\n",
      "\n",
      "2025-09-04 00:00:00\n",
      "\n",
      "\n"
     ]
    }
   ],
   "source": [
    "#Dates and times in pandas\n",
    "#Extract components of a datetime data structure\n",
    " \n",
    "import pandas as pd\n",
    "import datetime as dtime\n",
    "from dateutil import parser\n",
    "import calendar\n",
    " \n",
    "Adate = \"4th of September, 2025\"\n",
    "daTime = pd.to_datetime(date)\n",
    "print(daTime)\n",
    "print(\"\\n\")\n",
    " \n",
    "#Split date to its components\n",
    "date2 = parser.parse(Adate)\n",
    "print(date2)\n",
    "print(\"\\n\")\n",
    " "
   ]
  },
  {
   "cell_type": "code",
   "execution_count": 18,
   "id": "8d4c78dd-bbc4-43ce-99ac-2aa224a6914d",
   "metadata": {
    "tags": []
   },
   "outputs": [
    {
     "name": "stdout",
     "output_type": "stream",
     "text": [
      "Today's date is:  2023-11-26\n",
      "Today's year is:  2023\n",
      "Today's month is:  11\n",
      "Today's day is:  26\n",
      "\n",
      "\n",
      "Today's date is:  2023-11-26\n",
      "Today's year is:  2023\n",
      "Today's month is:  11\n",
      "Today's day is:  26\n",
      "\n",
      "\n",
      "My chosen date is:  2022-05-23 12:23:34\n",
      "My chosen year is:  2022\n",
      "My chosen month is:  5\n",
      "My chosen day is:  23\n",
      "My chosen hour of the time is:  12\n",
      "My chosen minute of the time is:  23\n",
      "My chosen second of the time is:  34\n"
     ]
    }
   ],
   "source": [
    "#Extract the year, month and day from currenttime object\n",
    "ctime = dtime.datetime.now()\n",
    "date3 = ctime.strftime(\"%Y-%m-%d\")\n",
    "print(\"Today's date is: \", date3)\n",
    " \n",
    "#Get Year from Current Date\n",
    "print(\"Today's year is: \", ctime.year)\n",
    " \n",
    "#Get Month from Current Date\n",
    "print(\"Today's month is: \", ctime.month)\n",
    " \n",
    "#Get Day from Current Date\n",
    "print(\"Today's day is: \", ctime.day)\n",
    "print(\"\\n\")\n",
    "\n",
    "#Extract the year, month and day from currenttime object\n",
    "ctime = dtime.datetime.now()\n",
    "date3 = ctime.strftime(\"%Y-%m-%d\")\n",
    "print(\"Today's date is: \", date3)\n",
    " \n",
    "#Get Year from Current Date\n",
    "print(\"Today's year is: \", ctime.year)\n",
    " \n",
    "#Get Month from Current Date\n",
    "print(\"Today's month is: \", ctime.month)\n",
    " \n",
    "#Get Day from Current Date\n",
    "print(\"Today's day is: \", ctime.day)\n",
    "print(\"\\n\")\n",
    "\n",
    "#============================================================\n",
    " \n",
    "#Extract the year, month and day from a chosen time object\n",
    "my_string = \"2022-05-23 12:23:34\"\n",
    " \n",
    "#Create a date object\n",
    "my_date = dtime.datetime.strptime(my_string, \"%Y-%m-%d %H:%M:%S\")\n",
    "print(\"My chosen date is: \", my_date)\n",
    " \n",
    "#Get Year from a chosen Date\n",
    "print(\"My chosen year is: \", my_date.year)\n",
    " \n",
    "#Get Month from a chosen Date\n",
    "print(\"My chosen month is: \", my_date.month)\n",
    " \n",
    "#Get Day from a chosen Date\n",
    "print(\"My chosen day is: \", my_date.day)\n",
    " \n",
    "#Get hour from a chosen Date\n",
    "print(\"My chosen hour of the time is: \", my_date.hour)\n",
    " \n",
    "#Get minute from a chosen Date\n",
    "print(\"My chosen minute of the time is: \", my_date.minute)\n",
    " \n",
    "#Get second from a chosen Date\n",
    "print(\"My chosen second of the time is: \", my_date.second)\n"
   ]
  },
  {
   "cell_type": "markdown",
   "id": "a3e08301-6d04-4430-b8ea-878fbc3e0804",
   "metadata": {
    "tags": []
   },
   "source": [
    "One of the most powerful and convenient features of pandas time series is time-based indexing — using dates and times to intuitively organise and access our data."
   ]
  },
  {
   "cell_type": "code",
   "execution_count": null,
   "id": "d20cb2c5-e5ad-4cb4-abfc-bdc32f439333",
   "metadata": {},
   "outputs": [],
   "source": []
  },
  {
   "cell_type": "code",
   "execution_count": null,
   "id": "8dd6939e-4b26-41a9-be08-41821142e1f6",
   "metadata": {},
   "outputs": [],
   "source": []
  }
 ],
 "metadata": {
  "kernelspec": {
   "display_name": "Python 3 (ipykernel)",
   "language": "python",
   "name": "python3"
  },
  "language_info": {
   "codemirror_mode": {
    "name": "ipython",
    "version": 3
   },
   "file_extension": ".py",
   "mimetype": "text/x-python",
   "name": "python",
   "nbconvert_exporter": "python",
   "pygments_lexer": "ipython3",
   "version": "3.11.4"
  }
 },
 "nbformat": 4,
 "nbformat_minor": 5
}
