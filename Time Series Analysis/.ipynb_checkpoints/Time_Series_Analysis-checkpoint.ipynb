{
 "cells": [
  {
   "cell_type": "code",
   "execution_count": 45,
   "id": "969032a9-78d2-4eea-b762-358d0734885c",
   "metadata": {
    "tags": []
   },
   "outputs": [],
   "source": [
    "import datetime as dtime\n",
    "from datetime import datetime\n",
    "from datetime import timedelta\n",
    "import time\n",
    "import pandas as pd\n",
    "import numpy as np\n",
    "import matplotlib.pyplot as plt\n",
    "import seaborn as sns"
   ]
  },
  {
   "cell_type": "markdown",
   "id": "2b22b96f-18b7-43a6-8d53-9aa4ccbd391c",
   "metadata": {},
   "source": [
    "Time stamps for particular points in the time line (e.g., July 4th, 2015 at 7:00am)\n",
    "Time interval or period consists of uniform length and does not overlap  (e.g. year 1975)\n",
    "Time deltas or duration is the exact length of time which is equal to the difference between start and end points  (e.g. a duration of a second, minute, hour, day, week, month, year, decade, millennium)\n"
   ]
  },
  {
   "cell_type": "markdown",
   "id": "9eb7d374-a038-451a-aa2b-630aa62b23df",
   "metadata": {},
   "source": [
    "The `strftime()` function is a method in Python's `datetime` module that stands for \"string format time.\" It's used to format `datetime` objects into human-readable strings. This function takes a format string as an argument, specifying how the date and time should be represented, and returns a formatted string.\n",
    "\n",
    "Here's a basic example:\n",
    "\n",
    "```python\n",
    "from datetime import datetime\n",
    "\n",
    "# Get the current date and time\n",
    "current_datetime = datetime.now()\n",
    "\n",
    "# Format the datetime object using strftime\n",
    "formatted_string = current_datetime.strftime(\"%Y-%m-%d %H:%M:%S\")\n",
    "\n",
    "print(\"Formatted String:\", formatted_string)\n",
    "```\n",
    "\n",
    "In this example, the format string `\"%Y-%m-%d %H:%M:%S\"` is used to represent the datetime as \"Year-Month-Day Hour:Minute:Second.\" You can customize the format string according to your requirements using various format codes, such as `%Y` for the year, `%m` for the month, `%d` for the day, `%H` for the hour, `%M` for the minute, and `%S` for the second.\n",
    "\n",
    "Here are some common format codes:\n",
    "\n",
    "- `%Y`: Year with century as a decimal number.\n",
    "- `%m`: Month as a zero-padded decimal number.\n",
    "- `%d`: Day of the month as a zero-padded decimal number.\n",
    "- `%H`: Hour (00 to 23).\n",
    "- `%M`: Minute (00 to 59).\n",
    "- `%S`: Second (00 to 59).\n",
    "\n",
    "The `strftime()` function is particularly useful when you need to display or log dates and times in a specific human-readable format."
   ]
  },
  {
   "cell_type": "code",
   "execution_count": 6,
   "id": "8c456f5b-111b-435e-b058-fe9fb7526021",
   "metadata": {
    "tags": []
   },
   "outputs": [
    {
     "name": "stdout",
     "output_type": "stream",
     "text": [
      "2023-11-25 12:06:51\n",
      "11/25/23 12:06:51\n",
      "Sat Nov 25 12:06:51 2023\n",
      "Unix Timestamp 1  1700914011.0\n",
      "Datetime as unix 2: 1700914011.693862\n",
      "DateTime from Unix timestamp 3:  2023-11-25 12:06:51.693862\n",
      "\n",
      "\n",
      "2023-11-25 12:06:51\n",
      "11/25/23 12:06:51\n",
      "Sat Nov 25 12:06:51 2023\n"
     ]
    }
   ],
   "source": [
    "#Different date and time formats\n",
    "#Use datetime\n",
    "ts = dtime.datetime.now()\n",
    "print(ts.strftime(\"%Y-%m-%d %H:%M:%S\"))\n",
    "print(ts.strftime(\"%x %X\"))\n",
    " \n",
    "#ISO format for datetime libraries\n",
    "print(ts.strftime(\"%c\"))\n",
    " \n",
    "# Unix timestamp\n",
    "print(\"Unix Timestamp 1 \",(time.mktime(ts.timetuple())))\n",
    " \n",
    "# Get Unix timestamp from a datetime object\n",
    "datetime_unix_time = ts.timestamp()\n",
    "print('Datetime as unix 2:', datetime_unix_time)\n",
    " \n",
    "# Convert Unix timestamp to datetime object\n",
    "timestamp = dtime.datetime.fromtimestamp(datetime_unix_time)\n",
    "print('DateTime from Unix timestamp 3: ', timestamp)\n",
    "\n",
    "#================================================\n",
    "#Use time \n",
    "#for greenwich meridian time\n",
    "ts1 = time.gmtime()\n",
    "print(\"\\n\")\n",
    "print(time.strftime(\"%Y-%m-%d %H:%M:%S\", ts1))\n",
    "print(time.strftime(\"%x %X\", ts1))\n",
    " \n",
    "# Iso Format for time libraries\n",
    "print(time.strftime(\"%c\", ts1))\n"
   ]
  },
  {
   "cell_type": "markdown",
   "id": "72b1360c-499f-4699-92f1-8bbfb6b3b7f1",
   "metadata": {},
   "source": [
    "The following code obtains current day, date and time dsiplay. This is useful for real time sensor data."
   ]
  },
  {
   "cell_type": "code",
   "execution_count": 7,
   "id": "9dc7a2a8-b16e-4f45-84e5-5a3b567b71da",
   "metadata": {
    "tags": []
   },
   "outputs": [
    {
     "name": "stdout",
     "output_type": "stream",
     "text": [
      "Current day is  Saturday\n",
      "It is Day number  6  of the week\n",
      "Current date is  25/11/2023\n",
      "Another format for current date is  25-November-2023\n",
      "Current time in 24-hour format is  12:06:54\n"
     ]
    }
   ],
   "source": [
    "now = dtime.datetime.now()\n",
    "print(\"Current day is \", now.strftime(\"%A\"))\n",
    "print(\"It is Day number \", now.strftime(\"%w\"), \" of the week\")\n",
    "print(\"Current date is \", now.strftime(\"%d/%m/%Y\"))\n",
    "print(\"Another format for current date is \", now.strftime(\"%d-%B-%Y\"))\n",
    "print(\"Current time in 24-hour format is \", now.strftime(\"%H:%M:%S\"))"
   ]
  },
  {
   "cell_type": "code",
   "execution_count": 8,
   "id": "1a341795-5b92-4d60-aac7-f75d23045219",
   "metadata": {
    "tags": []
   },
   "outputs": [
    {
     "name": "stdout",
     "output_type": "stream",
     "text": [
      "It is not midnight now\n",
      "It is not morning now\n",
      "It is not noon now\n",
      "It is afternoon now\n"
     ]
    }
   ],
   "source": [
    "now = dtime.datetime.now()\n",
    "\n",
    "#ctime is current time\n",
    "ctime = now.strftime(\"%H:%M:%S\")\n",
    "mNight = \"00:00:00\"\n",
    "mtime1 = \"00:00:01\"\n",
    "mtime2 = \"11:59:59\"\n",
    "ntime = \"12:00:00\"\n",
    "aftime1 = \"12:00:01\"\n",
    "aftime2 = \"18:00:00\"\n",
    "etime1 = \"18:00:01\"\n",
    "etime2 = \"23:59:59\"\n",
    "\n",
    "#Time of the day\n",
    "if ctime == mNight:\n",
    "    print(\"It is midnight now\")\n",
    "else:\n",
    "    print(\"It is not midnight now\")\n",
    "    if ctime >= mtime1 and ctime <=mtime2:\n",
    "        print(\"It is morning now\")\n",
    "    else:\n",
    "        print(\"It is not morning now\")\n",
    "        if ctime == ntime:\n",
    "            print(\"It is noon now\")\n",
    "        else:\n",
    "            print(\"It is not noon now\")\n",
    "            if ctime >= aftime1 and ctime <=aftime2:\n",
    "                print(\"It is afternoon now\")\n",
    "            else:\n",
    "                print(\"It is not afternoon now\")\n",
    "                if ctime >= etime1 and ctime <=etime2:\n",
    "                    print(\"It is evening now\")\n",
    "                else:\n",
    "                    print(\"It is not evening now\")\n"
   ]
  },
  {
   "cell_type": "code",
   "execution_count": 9,
   "id": "6c4def6c-7553-4182-ac42-90f6f020121f",
   "metadata": {
    "tags": []
   },
   "outputs": [
    {
     "name": "stdin",
     "output_type": "stream",
     "text": [
      "Please enter your date of birth (dd/mm/yyyy)  31/03/1995\n"
     ]
    },
    {
     "name": "stdout",
     "output_type": "stream",
     "text": [
      "1995-03-31 00:00:00\n",
      "10466 days, 14:43:10.261679\n",
      "You are 28 years, 7  months, 26  days, 18  hours, 42  minutes, 27 seconds old.\n"
     ]
    }
   ],
   "source": [
    "#Find your current age\n",
    "# Figure out your age\n",
    "# https://gist.github.com/shahri23/1804a3acb7ffb58a1ec8f1eda304af1a \n",
    "currentDate = dtime.datetime.now()\n",
    "\n",
    "birthdate = input('Please enter your date of birth (dd/mm/yyyy) ')\n",
    "bdate= dtime.datetime.strptime(birthdate,'%d/%m/%Y') #strptime - string to datetime object\n",
    "print (bdate)\n",
    "daysLeft = currentDate - bdate\n",
    "print(daysLeft)\n",
    "\n",
    "#Average number of days per year is 365.242 days\n",
    "years = ((daysLeft.total_seconds())/(365.242*24*3600))\n",
    "yearsInt=int(years)\n",
    "\n",
    "months=(years-yearsInt)*12\n",
    "monthsInt=int(months)\n",
    "\n",
    "days=(months-monthsInt)*(365.242/12)\n",
    "daysInt=int(days)\n",
    "\n",
    "hours = (days-daysInt)*24\n",
    "hoursInt=int(hours)\n",
    "\n",
    "minutes = (hours-hoursInt)*60\n",
    "minutesInt=int(minutes)\n",
    "\n",
    "seconds = (minutes-minutesInt)*60\n",
    "secondsInt =int(seconds)\n",
    "\n",
    "#0:d - the first argument in the tuple and in decimal format, i.e. yearsInt, etc...\n",
    "print('You are {0:d} years, {1:d}  months, {2:d}  days, {3:d}  hours, {4:d}  minutes, {5:d} seconds old.'.format(yearsInt, monthsInt, daysInt, hoursInt, minutesInt, secondsInt))\n"
   ]
  },
  {
   "cell_type": "markdown",
   "id": "c527fb67-d7f4-4bee-bd49-81756cc395fe",
   "metadata": {
    "tags": []
   },
   "source": [
    "A timedelta object represents a duration, the difference between two dates or times. The difference between timedelta and relativedelta (next section) is that time delta does not include the arguments for months and years."
   ]
  },
  {
   "cell_type": "code",
   "execution_count": 11,
   "id": "6bb8640f-50bd-480f-9fb0-ac5b06b4db3a",
   "metadata": {
    "tags": []
   },
   "outputs": [
    {
     "name": "stdout",
     "output_type": "stream",
     "text": [
      "Minus 1 second from current datetime \n",
      "2023-11-25 15:45:11.517563\n",
      "2023-11-25 15:45:10.517563\n",
      "\n",
      "\n",
      "Minus 1 minute from current datetime \n",
      "2023-11-25 15:45:11.517563\n",
      "2023-11-25 15:44:11.517563\n",
      "\n",
      "\n",
      "Minus 1 hour from current datetime \n",
      "2023-11-25 15:45:11.517563\n",
      "2023-11-25 14:45:11.517563\n",
      "\n",
      "\n",
      "Minus 1 day from current datetime \n",
      "2023-11-25 15:45:11.517563\n",
      "2023-11-24 15:45:11.517563\n",
      "\n",
      "\n",
      "Minus 22 days from current datetime \n",
      "2023-11-25 15:45:11.517563\n",
      "2023-11-03 15:45:11.517563\n",
      "\n",
      "\n",
      "Minus 1 week from current datetime \n",
      "2023-11-25 15:45:11.517563\n",
      "2023-11-18 15:45:11.517563\n",
      "\n",
      "\n"
     ]
    }
   ],
   "source": [
    "#Time delta\n",
    "\n",
    "#Minus 1 second from current datetime using `timedelta`\n",
    "ctime = dtime.datetime.now()\n",
    "ptime1 = ctime - timedelta(hours=0, minutes=0, seconds=1, microseconds=0)\n",
    "print('Minus 1 second from current datetime ')\n",
    "print(ctime)\n",
    "print(ptime1)\n",
    "print(\"\\n\")\n",
    " \n",
    "#Minus 1 minute from current datetime using `timedelta`\n",
    "ptime2 = ctime - timedelta(hours=0, minutes=1, seconds=0, microseconds=0)\n",
    "print('Minus 1 minute from current datetime ')\n",
    "print(ctime)\n",
    "print(ptime2)\n",
    "print(\"\\n\")\n",
    " \n",
    "#Minus 1 hour from current datetime using `timedelta`\n",
    "ptime3 = ctime - timedelta(hours=1, minutes=0, seconds=0, microseconds=0)\n",
    "print('Minus 1 hour from current datetime ')\n",
    "print(ctime)\n",
    "print(ptime3)\n",
    "print(\"\\n\")\n",
    " \n",
    "#Minus 1 day from current datetime using `timedelta`\n",
    "ptime4 = ctime - timedelta(days=1, hours=0, minutes=0, seconds=0, microseconds=0)\n",
    "print('Minus 1 day from current datetime ')\n",
    "print(ctime)\n",
    "print(ptime4)\n",
    "print(\"\\n\")\n",
    " \n",
    " \n",
    "#Minus 22 days from current datetime using `timedelta`\n",
    "ptime9 = ctime - timedelta(days=22, hours=0, minutes=0, seconds=0, microseconds=0)\n",
    "print('Minus 22 days from current datetime ')\n",
    "print(ctime)\n",
    "print(ptime9)\n",
    "print(\"\\n\")\n",
    " \n",
    " \n",
    "#Minus 1 week from current datetime using `timedelta`\n",
    "ptime5 = ctime - timedelta(weeks=1, days=0, hours=0, minutes=0, seconds=0, microseconds=0)\n",
    "print('Minus 1 week from current datetime ')\n",
    "print(ctime)\n",
    "print(ptime5)\n",
    "print(\"\\n\")\n",
    " \n",
    " \n",
    "#Minus 1 month from current datetime using `timedelta`\n",
    "#Note there is no argument for months\n",
    " \n",
    "#Minus 1 year from current datetime using `timedelta`\n",
    "#Note there is no argument for years\n"
   ]
  },
  {
   "cell_type": "markdown",
   "id": "0dfb2cc0-86aa-4584-afe2-31f7b1c587d6",
   "metadata": {},
   "source": [
    "The relativedelta and timedelta are both useful for date arithmetic, however, the relativedelta is more flexible and supports a wider range of date computations\n",
    "including months and years. "
   ]
  },
  {
   "cell_type": "code",
   "execution_count": 13,
   "id": "0616e9cd-f4bd-414c-a019-3d8f3c5234bc",
   "metadata": {
    "tags": []
   },
   "outputs": [
    {
     "name": "stdout",
     "output_type": "stream",
     "text": [
      "Add 1 second to current datetime \n",
      "2023-11-25 17:18:59.118890\n",
      "2023-11-25 17:19:00.118890\n",
      "\n",
      "\n",
      "Add 1 minute to current datetime \n",
      "2023-11-25 17:18:59.118890\n",
      "2023-11-25 17:19:59.118890\n",
      "\n",
      "\n",
      "Add 1 hour to current datetime \n",
      "2023-11-25 17:18:59.118890\n",
      "2023-11-25 18:18:59.118890\n",
      "\n",
      "\n",
      "Add 1 day to current datetime \n",
      "2023-11-25 17:18:59.118890\n",
      "2023-11-26 17:18:59.118890\n",
      "\n",
      "\n",
      "Add 1 week to current datetime \n",
      "2023-11-25 17:18:59.118890\n",
      "2023-12-02 17:18:59.118890\n",
      "\n",
      "\n",
      "Add 1 month to current datetime \n",
      "2023-11-25 17:18:59.118890\n",
      "2023-12-25 17:18:59.118890\n",
      "\n",
      "\n",
      "Add 1 year to current datetime \n",
      "2023-11-25 17:18:59.118890\n",
      "2024-11-25 17:18:59.118890\n",
      "\n",
      "\n"
     ]
    }
   ],
   "source": [
    "#Relative delta\n",
    "# https://dateutil.readthedocs.io/en/stable/relativedelta.html \n",
    "#https://docs.python.org/3.3/library/datetime.html#timedelta-objects \n",
    "\n",
    "import datetime as dtime\n",
    "from dateutil.relativedelta import *\n",
    "\n",
    "\n",
    "#Add 1 second to current datetime using `relativedelta`\n",
    "ctime = dtime.datetime.now()\n",
    "ftime1 = ctime + relativedelta(hours=0, minutes=0, seconds=1, microseconds=0)\n",
    "print('Add 1 second to current datetime ')\n",
    "print(ctime)\n",
    "print(ftime1)\n",
    "print(\"\\n\")\n",
    "\n",
    "#Add 1 minute to current datetime using `relativedelta`\n",
    "ftime2 = ctime + relativedelta(hours=0, minutes=1, seconds=0, microseconds=0)\n",
    "print('Add 1 minute to current datetime ')\n",
    "print(ctime)\n",
    "print(ftime2)\n",
    "print(\"\\n\")\n",
    "\n",
    "#Add 1 hour to current datetime using `relativedelta`\n",
    "ftime3 = ctime + relativedelta(hours=1, minutes=0, seconds=0, microseconds=0)\n",
    "print('Add 1 hour to current datetime ')\n",
    "print(ctime)\n",
    "print(ftime3)\n",
    "print(\"\\n\")\n",
    "\n",
    "#Add 1 day to current datetime using `relativedelta`\n",
    "ftime4 = ctime + relativedelta(days=1, hours=0, minutes=0, seconds=0, microseconds=0)\n",
    "print('Add 1 day to current datetime ')\n",
    "print(ctime)\n",
    "print(ftime4)\n",
    "print(\"\\n\")\n",
    "\n",
    "#Add 1 week to current datetime using `relativedelta`\n",
    "ftime5 = ctime + relativedelta(weeks=1, days=0, hours=0, minutes=0, seconds=0, microseconds=0)\n",
    "print('Add 1 week to current datetime ')\n",
    "print(ctime)\n",
    "print(ftime5)\n",
    "print(\"\\n\")\n",
    "\n",
    "\n",
    "#Add 1 month to current datetime using `relativedelta`\n",
    "ftime6 = ctime + relativedelta(months=1, weeks=0, days=0, hours=0, minutes=0, seconds=0, microseconds=0)\n",
    "print('Add 1 month to current datetime ')\n",
    "print(ctime)\n",
    "print(ftime6)\n",
    "print(\"\\n\")\n",
    "\n",
    "#Add 1 year to current datetime using `relativedelta`\n",
    "ftime7 = ctime + relativedelta(years=1, months=0, weeks=0, days=0, hours=0, minutes=0, seconds=0, microseconds=0)\n",
    "print('Add 1 year to current datetime ')\n",
    "print(ctime)\n",
    "print(ftime7)\n",
    "print(\"\\n\")\n"
   ]
  },
  {
   "cell_type": "code",
   "execution_count": 14,
   "id": "1b5a590d-a505-45cd-a2e0-cc58149eeec5",
   "metadata": {
    "tags": []
   },
   "outputs": [
    {
     "name": "stdout",
     "output_type": "stream",
     "text": [
      "Minus 1 second from current datetime \n",
      "2023-11-25 17:32:19.617752\n",
      "2023-11-25 17:32:18.617752\n",
      "\n",
      "\n",
      "Minus 1 minute from current datetime \n",
      "2023-11-25 17:32:19.617752\n",
      "2023-11-25 17:31:19.617752\n",
      "\n",
      "\n",
      "Minus 1 hour from current datetime \n",
      "2023-11-25 17:32:19.617752\n",
      "2023-11-25 16:32:19.617752\n",
      "\n",
      "\n",
      "Minus 1 day from current datetime \n",
      "2023-11-25 17:32:19.617752\n",
      "2023-11-24 17:32:19.617752\n",
      "\n",
      "\n",
      "Minus 22 days from current datetime \n",
      "2023-11-25 17:32:19.617752\n",
      "2023-11-03 17:32:19.617752\n",
      "\n",
      "\n",
      "Minus 1 week from current datetime \n",
      "2023-11-25 17:32:19.617752\n",
      "2023-11-18 17:32:19.617752\n",
      "\n",
      "\n",
      "Minus 1 month from current datetime \n",
      "2023-11-25 17:32:19.617752\n",
      "2023-10-25 17:32:19.617752\n",
      "\n",
      "\n",
      "Minus 1 year from current datetime \n",
      "2023-11-25 17:32:19.617752\n",
      "2024-11-25 17:32:19.617752\n",
      "\n",
      "\n"
     ]
    }
   ],
   "source": [
    "#Relative delta\n",
    "# https://dateutil.readthedocs.io/en/stable/relativedelta.html \n",
    "#https://docs.python.org/3.3/library/datetime.html#timedelta-objects \n",
    "\n",
    "import datetime as dtime\n",
    "from dateutil.relativedelta import *\n",
    "\n",
    "\n",
    "#Minus 1 second from current datetime using `relativedelta`\n",
    "ctime = dtime.datetime.now()\n",
    "ptime1 = ctime - relativedelta(hours=0, minutes=0, seconds=1, microseconds=0)\n",
    "print('Minus 1 second from current datetime ')\n",
    "print(ctime)\n",
    "print(ptime1)\n",
    "print(\"\\n\")\n",
    "\n",
    "#Minus 1 minute from current datetime using `relativedelta`\n",
    "ptime2 = ctime - relativedelta(hours=0, minutes=1, seconds=0, microseconds=0)\n",
    "print('Minus 1 minute from current datetime ')\n",
    "print(ctime)\n",
    "print(ptime2)\n",
    "print(\"\\n\")\n",
    "\n",
    "#Minus 1 hour from current datetime using `relativedelta`\n",
    "ptime3 = ctime - relativedelta(hours=1, minutes=0, seconds=0, microseconds=0)\n",
    "print('Minus 1 hour from current datetime ')\n",
    "print(ctime)\n",
    "print(ptime3)\n",
    "print(\"\\n\")\n",
    "\n",
    "#Minus 1 day from current datetime using `relativedelta`\n",
    "ptime4 = ctime - relativedelta(days=1, hours=0, minutes=0, seconds=0, microseconds=0)\n",
    "print('Minus 1 day from current datetime ')\n",
    "print(ctime)\n",
    "print(ptime4)\n",
    "print(\"\\n\")\n",
    "\n",
    "\n",
    "#Minus 22 days from current datetime using `relativedelta`\n",
    "ptime9 = ctime - relativedelta(days=22, hours=0, minutes=0, seconds=0, microseconds=0)\n",
    "print('Minus 22 days from current datetime ')\n",
    "print(ctime)\n",
    "print(ptime9)\n",
    "print(\"\\n\")\n",
    "\n",
    "\n",
    "#Minus 1 week from current datetime using `relativedelta`\n",
    "ptime5 = ctime - relativedelta(weeks=1, days=0, hours=0, minutes=0, seconds=0, microseconds=0)\n",
    "print('Minus 1 week from current datetime ')\n",
    "print(ctime)\n",
    "print(ptime5)\n",
    "print(\"\\n\")\n",
    "\n",
    "\n",
    "#Minus 1 month from current datetime using `relativedelta`\n",
    "ptime6 = ctime - relativedelta(months=1, weeks=0, days=0, hours=0, minutes=0, seconds=0, microseconds=0)\n",
    "print('Minus 1 month from current datetime ')\n",
    "print(ctime)\n",
    "print(ptime6)\n",
    "print(\"\\n\")\n",
    "\n",
    "#Minus 1 year from current datetime using `relativedelta`\n",
    "ptime7 = ctime + relativedelta(years=1, months=0, weeks=0, days=0, hours=0, minutes=0, seconds=0, microseconds=0)\n",
    "print('Minus 1 year from current datetime ')\n",
    "print(ctime)\n",
    "print(ptime7)\n",
    "print(\"\\n\")\n"
   ]
  },
  {
   "cell_type": "code",
   "execution_count": 15,
   "id": "2bf3424a-bf67-42d6-9a34-0063d36875d8",
   "metadata": {
    "tags": []
   },
   "outputs": [
    {
     "name": "stdout",
     "output_type": "stream",
     "text": [
      "2025-09-04 00:00:00\n",
      "\n",
      "\n"
     ]
    }
   ],
   "source": [
    "#Dates and times in pandas\n",
    "date = \"4th of September, 2025\"\n",
    "dTime = pd.to_datetime(date)\n",
    "print(dTime)\n",
    "print(\"\\n\")\n"
   ]
  },
  {
   "cell_type": "code",
   "execution_count": 16,
   "id": "446c42a7-1783-41e4-bf8e-04468e4a75ed",
   "metadata": {
    "tags": []
   },
   "outputs": [
    {
     "name": "stdout",
     "output_type": "stream",
     "text": [
      "2025-09-04 00:00:00\n",
      "\n",
      "\n",
      "2025-09-04 00:00:00\n",
      "\n",
      "\n"
     ]
    }
   ],
   "source": [
    "#Dates and times in pandas\n",
    "#Extract components of a datetime data structure\n",
    " \n",
    "import pandas as pd\n",
    "import datetime as dtime\n",
    "from dateutil import parser\n",
    "import calendar\n",
    " \n",
    "Adate = \"4th of September, 2025\"\n",
    "daTime = pd.to_datetime(date)\n",
    "print(daTime)\n",
    "print(\"\\n\")\n",
    " \n",
    "#Split date to its components\n",
    "date2 = parser.parse(Adate)\n",
    "print(date2)\n",
    "print(\"\\n\")\n",
    " "
   ]
  },
  {
   "cell_type": "code",
   "execution_count": 18,
   "id": "8d4c78dd-bbc4-43ce-99ac-2aa224a6914d",
   "metadata": {
    "tags": []
   },
   "outputs": [
    {
     "name": "stdout",
     "output_type": "stream",
     "text": [
      "Today's date is:  2023-11-26\n",
      "Today's year is:  2023\n",
      "Today's month is:  11\n",
      "Today's day is:  26\n",
      "\n",
      "\n",
      "Today's date is:  2023-11-26\n",
      "Today's year is:  2023\n",
      "Today's month is:  11\n",
      "Today's day is:  26\n",
      "\n",
      "\n",
      "My chosen date is:  2022-05-23 12:23:34\n",
      "My chosen year is:  2022\n",
      "My chosen month is:  5\n",
      "My chosen day is:  23\n",
      "My chosen hour of the time is:  12\n",
      "My chosen minute of the time is:  23\n",
      "My chosen second of the time is:  34\n"
     ]
    }
   ],
   "source": [
    "#Extract the year, month and day from currenttime object\n",
    "ctime = dtime.datetime.now()\n",
    "date3 = ctime.strftime(\"%Y-%m-%d\")\n",
    "print(\"Today's date is: \", date3)\n",
    " \n",
    "#Get Year from Current Date\n",
    "print(\"Today's year is: \", ctime.year)\n",
    " \n",
    "#Get Month from Current Date\n",
    "print(\"Today's month is: \", ctime.month)\n",
    " \n",
    "#Get Day from Current Date\n",
    "print(\"Today's day is: \", ctime.day)\n",
    "print(\"\\n\")\n",
    "\n",
    "#Extract the year, month and day from currenttime object\n",
    "ctime = dtime.datetime.now()\n",
    "date3 = ctime.strftime(\"%Y-%m-%d\")\n",
    "print(\"Today's date is: \", date3)\n",
    " \n",
    "#Get Year from Current Date\n",
    "print(\"Today's year is: \", ctime.year)\n",
    " \n",
    "#Get Month from Current Date\n",
    "print(\"Today's month is: \", ctime.month)\n",
    " \n",
    "#Get Day from Current Date\n",
    "print(\"Today's day is: \", ctime.day)\n",
    "print(\"\\n\")\n",
    "\n",
    "#============================================================\n",
    " \n",
    "#Extract the year, month and day from a chosen time object\n",
    "my_string = \"2022-05-23 12:23:34\"\n",
    " \n",
    "#Create a date object\n",
    "my_date = dtime.datetime.strptime(my_string, \"%Y-%m-%d %H:%M:%S\")\n",
    "print(\"My chosen date is: \", my_date)\n",
    " \n",
    "#Get Year from a chosen Date\n",
    "print(\"My chosen year is: \", my_date.year)\n",
    " \n",
    "#Get Month from a chosen Date\n",
    "print(\"My chosen month is: \", my_date.month)\n",
    " \n",
    "#Get Day from a chosen Date\n",
    "print(\"My chosen day is: \", my_date.day)\n",
    " \n",
    "#Get hour from a chosen Date\n",
    "print(\"My chosen hour of the time is: \", my_date.hour)\n",
    " \n",
    "#Get minute from a chosen Date\n",
    "print(\"My chosen minute of the time is: \", my_date.minute)\n",
    " \n",
    "#Get second from a chosen Date\n",
    "print(\"My chosen second of the time is: \", my_date.second)\n"
   ]
  },
  {
   "cell_type": "markdown",
   "id": "a3e08301-6d04-4430-b8ea-878fbc3e0804",
   "metadata": {
    "tags": []
   },
   "source": [
    "One of the most powerful and convenient features of pandas time series is time-based indexing — using dates and times to intuitively organise and access our data.\n",
    "Sure, let's break it down in a simple way:\n",
    "\n",
    "Time-based indexing is like organizing your data in a diary with dates. Imagine you have a diary where you write something every day. The dates in your diary are like the index. When you want to find what you wrote on a specific day, you just look at that date in your diary.\n",
    "\n",
    "In a similar way, time-based indexing in data is like putting dates on each piece of information. It helps you easily find, analyze, and understand your data based on time. For example, you might have data for every day, and with time-based indexing, you can quickly see what happened on a particular day or analyze trends over time.\n",
    "\n",
    "It's like having a timeline for your data, making it easy to work with anything related to time, such as finding information for a specific date or seeing how things change over days, months, or years."
   ]
  },
  {
   "cell_type": "code",
   "execution_count": 30,
   "id": "d20cb2c5-e5ad-4cb4-abfc-bdc32f439333",
   "metadata": {
    "tags": []
   },
   "outputs": [
    {
     "name": "stdout",
     "output_type": "stream",
     "text": [
      "DatetimeIndex(['2018-01-01', '2018-01-01', '2018-01-01'], dtype='datetime64[ns]', freq=None)\n",
      "\n",
      "\n",
      "DatetimeIndex(['2018-01-01 00:00:00', '2018-01-01 01:00:00',\n",
      "               '2018-01-01 02:00:00', '2018-01-01 03:00:00',\n",
      "               '2018-01-01 04:00:00', '2018-01-01 05:00:00',\n",
      "               '2018-01-01 06:00:00', '2018-01-01 07:00:00',\n",
      "               '2018-01-01 08:00:00', '2018-01-01 09:00:00'],\n",
      "              dtype='datetime64[ns]', freq='H')\n",
      "\n",
      "\n",
      "2018-01-01 00:00:00    0\n",
      "2018-01-01 01:00:00    1\n",
      "2018-01-01 02:00:00    2\n",
      "2018-01-01 03:00:00    3\n",
      "2018-01-01 04:00:00    4\n",
      "2018-01-01 05:00:00    5\n",
      "2018-01-01 06:00:00    6\n",
      "2018-01-01 07:00:00    7\n",
      "2018-01-01 08:00:00    8\n",
      "2018-01-01 09:00:00    9\n",
      "Freq: H, dtype: int64\n",
      "\n",
      "\n"
     ]
    },
    {
     "data": {
      "text/plain": [
       "2018-01-01 00:00:00    0.5\n",
       "2018-01-01 02:00:00    2.5\n",
       "2018-01-01 04:00:00    4.5\n",
       "2018-01-01 06:00:00    6.5\n",
       "2018-01-01 08:00:00    8.5\n",
       "Freq: 2H, dtype: float64"
      ]
     },
     "execution_count": 30,
     "metadata": {},
     "output_type": "execute_result"
    }
   ],
   "source": [
    "#Pandas Time Series Indexed by Time\n",
    "#Use pandas to convert all different inputs to datetime format\n",
    "dti = pd.to_datetime(['1/1/2018', np.datetime64('2018-01-01'),\n",
    "                        datetime(2018, 1, 1)])\n",
    "print(dti)\n",
    "print(\"\\n\")\n",
    " \n",
    "#Generate sequences of fixed-frequency dates and time spans, H is hour (10 hours)\n",
    "dti_2 = pd.date_range('2018-01-01', periods=10, freq='H')\n",
    "print(dti_2)\n",
    "print(\"\\n\")\n",
    " \n",
    " \n",
    "# Resampling or converting a time series to a particular frequency with index\n",
    "dti_2 = pd.date_range('2018-01-01', periods=10, freq='H')\n",
    "tseries = pd.Series(range(len(dti_2)), index = dti_2)\n",
    "print(tseries)\n",
    "print(\"\\n\")\n",
    " \n",
    " \n",
    "#Resample the time series to 2 hourly and find the mean\n",
    "tseries.resample('2H').mean()\n"
   ]
  },
  {
   "cell_type": "code",
   "execution_count": 31,
   "id": "8dd6939e-4b26-41a9-be08-41821142e1f6",
   "metadata": {
    "tags": []
   },
   "outputs": [
    {
     "name": "stdout",
     "output_type": "stream",
     "text": [
      "0    2020-01-01\n",
      "1    2020-01-02\n",
      "2    2020-01-03\n",
      "3    2020-01-04\n",
      "4    2020-01-05\n",
      "5    2020-01-06\n",
      "6    2020-01-07\n",
      "7    2020-01-08\n",
      "8    2020-01-09\n",
      "9    2020-01-10\n",
      "10   2020-01-11\n",
      "11   2020-01-12\n",
      "12   2020-01-13\n",
      "13   2020-01-14\n",
      "14   2020-01-15\n",
      "15   2020-01-16\n",
      "16   2020-01-17\n",
      "17   2020-01-18\n",
      "18   2020-01-19\n",
      "19   2020-01-20\n",
      "20   2020-01-21\n",
      "21   2020-01-22\n",
      "22   2020-01-23\n",
      "23   2020-01-24\n",
      "24   2020-01-25\n",
      "25   2020-01-26\n",
      "26   2020-01-27\n",
      "27   2020-01-28\n",
      "28   2020-01-29\n",
      "29   2020-01-30\n",
      "30   2020-01-31\n",
      "31   2020-02-01\n",
      "32   2020-02-02\n",
      "33   2020-02-03\n",
      "34   2020-02-04\n",
      "35   2020-02-05\n",
      "36   2020-02-06\n",
      "37   2020-02-07\n",
      "38   2020-02-08\n",
      "39   2020-02-09\n",
      "dtype: datetime64[ns]\n",
      "\n",
      "\n",
      "0    2011-01\n",
      "1    2011-02\n",
      "2    2011-03\n",
      "3    2011-04\n",
      "4    2011-05\n",
      "5    2011-06\n",
      "6    2011-07\n",
      "7    2011-08\n",
      "8    2011-09\n",
      "9    2011-10\n",
      "dtype: period[M]\n",
      "\n",
      "\n",
      "0         <DateOffset>\n",
      "1    <2 * DateOffsets>\n",
      "dtype: object\n",
      "\n",
      "\n",
      "0   2011-01-31\n",
      "1   2011-02-28\n",
      "2   2011-03-31\n",
      "dtype: datetime64[ns]\n",
      "\n",
      "\n"
     ]
    }
   ],
   "source": [
    "#Represent time component in the index of a Series or dataframe so that manipulations can be performed with respect \n",
    "#to the time element\n",
    "import datetime\n",
    "import pandas as pd\n",
    " \n",
    "#D is day\n",
    "tseries1 = pd.Series(pd.date_range('2020', freq='D', periods=40))\n",
    "print(tseries1)\n",
    "print(\"\\n\")\n",
    " \n",
    "#M is month\n",
    "tseries2 = pd.Series(pd.period_range('1/1/2011', freq='M', periods=10))\n",
    "print(tseries2)\n",
    "print(\"\\n\")\n",
    " \n",
    "#M is month\n",
    "#When passed into those constructors. \n",
    "#DateOffset data however will be stored as object data.\n",
    "tseries3 = pd.Series([pd.DateOffset(1), pd.DateOffset(2)])\n",
    "print(tseries3)\n",
    "print(\"\\n\")\n",
    " \n",
    "tseries4 = pd.Series(pd.date_range('1/1/2011', freq='M', periods=3))\n",
    "print(tseries4)\n",
    "print(\"\\n\")\n"
   ]
  },
  {
   "cell_type": "markdown",
   "id": "0e002047-4e80-4e1d-b493-7fb634b66004",
   "metadata": {},
   "source": [
    "Missing data: Pandas represents null date times, time deltas, and time spans as NaT which is useful for representing missing or null date like values"
   ]
  },
  {
   "cell_type": "code",
   "execution_count": 32,
   "id": "9afd3432-6cd2-4a14-a621-ca75690fd179",
   "metadata": {
    "tags": []
   },
   "outputs": [
    {
     "name": "stdout",
     "output_type": "stream",
     "text": [
      "NaT\n",
      "NaT\n",
      "NaT\n",
      "False\n",
      "False\n"
     ]
    }
   ],
   "source": [
    "#Represent Missing Data for dates, time deltas, and time spans\n",
    "import datetime\n",
    "import pandas as pd\n",
    " \n",
    "missing1 = pd.Timestamp(pd.NaT)\n",
    "print(missing1)\n",
    " \n",
    "missing2 = pd.Timedelta(pd.NaT)\n",
    "print(missing2)\n",
    " \n",
    "missing3 = pd.Period(pd.NaT)\n",
    "print(missing3)\n",
    " \n",
    " \n",
    "#You cannot use equality for NaT\n",
    "print(missing1 == pd.NaT)\n",
    "print(missing1 == \"NaT\")"
   ]
  },
  {
   "cell_type": "code",
   "execution_count": 35,
   "id": "703a9be4-9142-4b8f-b854-f19c253d2487",
   "metadata": {
    "tags": []
   },
   "outputs": [
    {
     "name": "stdout",
     "output_type": "stream",
     "text": [
      "[Timestamp('2012-05-01 00:00:00'), Timestamp('2012-05-02 00:00:00'), Timestamp('2012-05-03 00:00:00')]\n",
      "\n",
      "\n",
      "DatetimeIndex(['2018-01-05', '1952-07-08', '1995-10-10'], dtype='datetime64[ns]', freq=None)\n",
      "\n",
      "\n",
      "DatetimeIndex(['2018-01-05', '1952-07-08', '1995-10-10'], dtype='datetime64[ns]', freq=None)\n",
      "\n",
      "\n",
      "DatetimeIndex(['2010-01-22', '2017-06-18', '2012-12-15'], dtype='datetime64[ns]', freq=None)\n",
      "\n",
      "\n",
      "0   2015-02-04 02:00:00\n",
      "1   2016-03-05 03:00:00\n",
      "dtype: datetime64[ns]\n",
      "\n",
      "\n",
      "0   2015-02-04\n",
      "1   2016-03-05\n",
      "dtype: datetime64[ns]\n",
      "\n",
      "\n"
     ]
    }
   ],
   "source": [
    "#Read in data lists\n",
    "#Timestamp for Data List \n",
    "dates = [pd.Timestamp('2012-05-01'),\n",
    "               pd.Timestamp('2012-05-02'),\n",
    "               pd.Timestamp('2012-05-03')]\n",
    "print(dates)\n",
    "print(\"\\n\")\n",
    "\n",
    " #Use datetime and datetime index\n",
    "dates2 = pd.to_datetime(['2018-01-05', '7/8/1952', 'Oct 10, 1995'])\n",
    "dates3 = pd.DatetimeIndex(['2018-01-05', '1952-07-08', '1995-10-10'])\n",
    "dates4 = pd.to_datetime(['22/01/10', '18/06/17', '15/12/12'], format='%d/%m/%y')\n",
    "print(dates2)\n",
    "print(\"\\n\")\n",
    "print(dates3)\n",
    "print(\"\\n\")\n",
    "print(dates4)\n",
    "print(\"\\n\")\n",
    "\n",
    "#Use pandas dataframe - passing exact days, month, years and even hours\n",
    "df = pd.DataFrame({ 'year': [2015, 2016],\n",
    "                   'month': [2, 3],\n",
    "                     'day': [4, 5],\n",
    "                    'hour': [2, 3]})\n",
    "dtime = pd.to_datetime(df)\n",
    "print(dtime)\n",
    "print(\"\\n\")\n",
    " \n",
    "#Pass only the columns we need - Year, month, and day\n",
    "dtime2 = pd.to_datetime(df[['year', 'month', 'day']])\n",
    "print (dtime2)\n",
    "print(\"\\n\")\n"
   ]
  },
  {
   "cell_type": "markdown",
   "id": "31d77cc2-06a4-4198-a15a-9a3114345b88",
   "metadata": {
    "tags": []
   },
   "source": [
    "Data Cleansing for Missing Data\n",
    "If it is categorical data, replace missing data with mode, while missing numeric data could either be replaced with mean or median. You have to specify what actions you have taken in the assignment report."
   ]
  },
  {
   "cell_type": "code",
   "execution_count": 42,
   "id": "07f53e50-da08-4dd1-8ded-bb79d69eca75",
   "metadata": {
    "tags": []
   },
   "outputs": [
    {
     "name": "stdout",
     "output_type": "stream",
     "text": [
      "Number of records/rows is  9471\n",
      "         Date      Time  CO(GT)  PT08.S1(CO)  NMHC(GT)  C6H6(GT)  \\\n",
      "0  10/03/2004  18.00.00     2.6       1360.0     150.0      11.9   \n",
      "1  10/03/2004  19.00.00     2.0       1292.0     112.0       9.4   \n",
      "2  10/03/2004  20.00.00     2.2       1402.0      88.0       9.0   \n",
      "3  10/03/2004  21.00.00     2.2       1376.0      80.0       9.2   \n",
      "4  10/03/2004  22.00.00     1.6       1272.0      51.0       6.5   \n",
      "\n",
      "   PT08.S2(NMHC)  NOx(GT)  PT08.S3(NOx)  NO2(GT)  PT08.S4(NO2)  PT08.S5(O3)  \\\n",
      "0         1046.0    166.0        1056.0    113.0        1692.0       1268.0   \n",
      "1          955.0    103.0        1174.0     92.0        1559.0        972.0   \n",
      "2          939.0    131.0        1140.0    114.0        1555.0       1074.0   \n",
      "3          948.0    172.0        1092.0    122.0        1584.0       1203.0   \n",
      "4          836.0    131.0        1205.0    116.0        1490.0       1110.0   \n",
      "\n",
      "      T    RH      AH  Unnamed: 15  Unnamed: 16  \n",
      "0  13.6  48.9  0.7578          NaN          NaN  \n",
      "1  13.3  47.7  0.7255          NaN          NaN  \n",
      "2  11.9  54.0  0.7502          NaN          NaN  \n",
      "3  11.0  60.0  0.7867          NaN          NaN  \n",
      "4  11.2  59.6  0.7888          NaN          NaN  \n",
      "\n",
      "\n",
      "subset 0-14\n",
      "             Date      Time  CO(GT)  PT08.S1(CO)  NMHC(GT)  C6H6(GT)  \\\n",
      "0     10/03/2004  18.00.00     2.6       1360.0     150.0      11.9   \n",
      "1     10/03/2004  19.00.00     2.0       1292.0     112.0       9.4   \n",
      "2     10/03/2004  20.00.00     2.2       1402.0      88.0       9.0   \n",
      "3     10/03/2004  21.00.00     2.2       1376.0      80.0       9.2   \n",
      "4     10/03/2004  22.00.00     1.6       1272.0      51.0       6.5   \n",
      "...          ...       ...     ...          ...       ...       ...   \n",
      "9466         NaN       NaN     NaN          NaN       NaN       NaN   \n",
      "9467         NaN       NaN     NaN          NaN       NaN       NaN   \n",
      "9468         NaN       NaN     NaN          NaN       NaN       NaN   \n",
      "9469         NaN       NaN     NaN          NaN       NaN       NaN   \n",
      "9470         NaN       NaN     NaN          NaN       NaN       NaN   \n",
      "\n",
      "      PT08.S2(NMHC)  NOx(GT)  PT08.S3(NOx)  NO2(GT)  PT08.S4(NO2)  \\\n",
      "0            1046.0    166.0        1056.0    113.0        1692.0   \n",
      "1             955.0    103.0        1174.0     92.0        1559.0   \n",
      "2             939.0    131.0        1140.0    114.0        1555.0   \n",
      "3             948.0    172.0        1092.0    122.0        1584.0   \n",
      "4             836.0    131.0        1205.0    116.0        1490.0   \n",
      "...             ...      ...           ...      ...           ...   \n",
      "9466            NaN      NaN           NaN      NaN           NaN   \n",
      "9467            NaN      NaN           NaN      NaN           NaN   \n",
      "9468            NaN      NaN           NaN      NaN           NaN   \n",
      "9469            NaN      NaN           NaN      NaN           NaN   \n",
      "9470            NaN      NaN           NaN      NaN           NaN   \n",
      "\n",
      "      PT08.S5(O3)     T    RH  \n",
      "0          1268.0  13.6  48.9  \n",
      "1           972.0  13.3  47.7  \n",
      "2          1074.0  11.9  54.0  \n",
      "3          1203.0  11.0  60.0  \n",
      "4          1110.0  11.2  59.6  \n",
      "...           ...   ...   ...  \n",
      "9466          NaN   NaN   NaN  \n",
      "9467          NaN   NaN   NaN  \n",
      "9468          NaN   NaN   NaN  \n",
      "9469          NaN   NaN   NaN  \n",
      "9470          NaN   NaN   NaN  \n",
      "\n",
      "[9471 rows x 14 columns]\n",
      "\n",
      "\n",
      "Date              114\n",
      "Time              114\n",
      "CO(GT)            114\n",
      "PT08.S1(CO)       114\n",
      "NMHC(GT)          114\n",
      "C6H6(GT)          114\n",
      "PT08.S2(NMHC)     114\n",
      "NOx(GT)           114\n",
      "PT08.S3(NOx)      114\n",
      "NO2(GT)           114\n",
      "PT08.S4(NO2)      114\n",
      "PT08.S5(O3)       114\n",
      "T                 114\n",
      "RH                114\n",
      "AH                114\n",
      "Unnamed: 15      9471\n",
      "Unnamed: 16      9471\n",
      "dtype: int64\n",
      "\n",
      "\n",
      "Date             9357\n",
      "Time             9357\n",
      "CO(GT)           9357\n",
      "PT08.S1(CO)      9357\n",
      "NMHC(GT)         9357\n",
      "C6H6(GT)         9357\n",
      "PT08.S2(NMHC)    9357\n",
      "NOx(GT)          9357\n",
      "PT08.S3(NOx)     9357\n",
      "NO2(GT)          9357\n",
      "PT08.S4(NO2)     9357\n",
      "PT08.S5(O3)      9357\n",
      "T                9357\n",
      "RH               9357\n",
      "AH               9357\n",
      "Unnamed: 15         0\n",
      "Unnamed: 16         0\n",
      "dtype: int64\n",
      "\n",
      "\n"
     ]
    }
   ],
   "source": [
    "#https://www.dataquest.io/blog/tutorial-time-series-analysis-with-pandas/\n",
    "#Load dataset\n",
    "dataset = pd.read_csv('AirQualityUCI.csv', sep = \";\", decimal = \",\")\n",
    "print('Number of records/rows is ', len(dataset))\n",
    "print(dataset.head())\n",
    "print(\"\\n\")\n",
    "print(\"subset 0-14\"\"\\n\",  dataset.iloc[ : , 0:14])  #select a subset of the data.Select all columns, from 0 -13 (excluding 14)\n",
    "print(\"\\n\")\n",
    " \n",
    "#A lot of missing data\n",
    "#is a null value\n",
    "print(dataset.isna().sum())\n",
    "print(\"\\n\")\n",
    " \n",
    "#not a null value\n",
    "print(dataset.notnull().sum())\n",
    "print(\"\\n\")\n"
   ]
  },
  {
   "cell_type": "code",
   "execution_count": 51,
   "id": "70caf49e-5f7d-4ad5-8c7c-fd52b5472e3b",
   "metadata": {
    "tags": []
   },
   "outputs": [
    {
     "name": "stderr",
     "output_type": "stream",
     "text": [
      "C:\\Users\\Solomon\\AppData\\Local\\Temp\\ipykernel_20824\\4264705380.py:11: UserWarning: Parsing dates in DD/MM/YYYY format when dayfirst=False (the default) was specified. This may lead to inconsistently parsed dates! Specify a format to ensure consistent parsing.\n",
      "  column1 = pd.to_datetime(dataset['Date'])\n"
     ]
    },
    {
     "name": "stdout",
     "output_type": "stream",
     "text": [
      "            Date     T\n",
      "0     10/03/2004  13.6\n",
      "1     10/03/2004  13.3\n",
      "2     10/03/2004  11.9\n",
      "3     10/03/2004  11.0\n",
      "4     10/03/2004  11.2\n",
      "...          ...   ...\n",
      "9352  04/04/2005  21.9\n",
      "9353  04/04/2005  24.3\n",
      "9354  04/04/2005  26.9\n",
      "9355  04/04/2005  28.3\n",
      "9356  04/04/2005  28.5\n",
      "\n",
      "[9357 rows x 2 columns]\n",
      "\n",
      "\n",
      "This is dataslice 2 below             Date     T\n",
      "0     10/03/2004  13.6\n",
      "1     10/03/2004  13.3\n",
      "2     10/03/2004  11.9\n",
      "3     10/03/2004  11.0\n",
      "4     10/03/2004  11.2\n",
      "...          ...   ...\n",
      "9352  04/04/2005  21.9\n",
      "9353  04/04/2005  24.3\n",
      "9354  04/04/2005  26.9\n",
      "9355  04/04/2005  28.3\n",
      "9356  04/04/2005  28.5\n",
      "\n",
      "[9357 rows x 2 columns]\n",
      "\n",
      "\n"
     ]
    },
    {
     "data": {
      "image/png": "[encoded data removed]",
      "text/plain": [
       "<Figure size 640x480 with 1 Axes>"
      ]
     },
     "metadata": {},
     "output_type": "display_data"
    },
    {
     "data": {
      "image/png": "[encoded data removed]",
      "text/plain": [
       "<Figure size 2000x1000 with 1 Axes>"
      ]
     },
     "metadata": {},
     "output_type": "display_data"
    },
    {
     "data": {
      "text/plain": [
       "[Text(0.5, 0, 'Date'),\n",
       " Text(0, 0.5, 'Temperature in Degrees Celsius'),\n",
       " Text(0.5, 1.0, 'Temperature versus Time')]"
      ]
     },
     "execution_count": 51,
     "metadata": {},
     "output_type": "execute_result"
    },
    {
     "data": {
      "image/png": "[encoded data removed]",
      "text/plain": [
       "<Figure size 2000x500 with 1 Axes>"
      ]
     },
     "metadata": {},
     "output_type": "display_data"
    }
   ],
   "source": [
    "#Plot Time Series Graphs\n",
    "#Covert the date data to datetime object\n",
    "# We would like to investigate on how temperature changes with respect to time\n",
    "#Column 0 - date; Column 11 - temperature\n",
    "#https://www.dataquest.io/blog/tutorial-time-series-analysis-with-pandas/\n",
    "\n",
    "#Load dataset and choose two columns - Date and Temperature, T\n",
    "dataset = pd.read_csv('AirQualityUCIvs2.csv', sep = \";\", decimal = \",\", parse_dates=True)\n",
    "dataslice = dataset[['Date','T']]\n",
    "#choosing the date column and unifying the format\n",
    "column1 = pd.to_datetime(dataset['Date'])\n",
    "#choosing the temperature column\n",
    "column2 = dataset['T']\n",
    "print(dataslice)\n",
    "print(\"\\n\")\n",
    "\n",
    "# selecting only column 0 and 12, remember you are counting from 0\n",
    "dataslice2 = dataset.iloc[:, [0,12]]\n",
    "print(\"This is dataslice 2 below\", dataslice2)\n",
    "print(\"\\n\")\n",
    "\n",
    "#Example 1: Plot the time series graph with matplotlib\n",
    "#This is not a good graph because the date column is not changed to datetime object\n",
    "dataslice.plot()\n",
    "plt.show()\n",
    "\n",
    "#Example 2: Plot the time series graph with matplotlib\n",
    "#This is the date column has been changed to datetime object\n",
    "#set the figure size\n",
    "plt.figure(figsize=(20,10))\n",
    "plt.scatter(column1, column2, color='green', marker='o')\n",
    "plt.title(\"Temperature Change With Respect To Time\", fontsize = 20)\n",
    "plt.xlabel(\"Date\", fontsize = 12)\n",
    "plt.ylabel(\"Temperature in Celsius\", fontsize = 12)\n",
    "plt.show()\n",
    "\n",
    "#Example 3 Plot with Seaborn\n",
    "plt.figure(figsize=(20,5))\n",
    "fig = sns.scatterplot(data= dataset, x=column1, y=column2)\n",
    "fig.set(xlabel='Date', ylabel='Temperature in Degrees Celsius', title = 'Temperature versus Time')\n"
   ]
  },
  {
   "cell_type": "code",
   "execution_count": null,
   "id": "96455601-b6b2-4c6b-a8ae-5643402f3103",
   "metadata": {},
   "outputs": [],
   "source": []
  }
 ],
 "metadata": {
  "kernelspec": {
   "display_name": "Python 3 (ipykernel)",
   "language": "python",
   "name": "python3"
  },
  "language_info": {
   "codemirror_mode": {
    "name": "ipython",
    "version": 3
   },
   "file_extension": ".py",
   "mimetype": "text/x-python",
   "name": "python",
   "nbconvert_exporter": "python",
   "pygments_lexer": "ipython3",
   "version": "3.11.4"
  }
 },
 "nbformat": 4,
 "nbformat_minor": 5
}
