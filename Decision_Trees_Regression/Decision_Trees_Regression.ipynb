{
 "cells": [
  {
   "cell_type": "code",
   "execution_count": 1,
   "id": "1f1d43cb-51b0-4048-853f-1a84af7e618d",
   "metadata": {
    "tags": []
   },
   "outputs": [],
   "source": [
    "#importing the libraries\n",
    "import numpy as np\n",
    "import pandas as pd\n",
    "import matplotlib.pyplot as plt\n",
    "%matplotlib inline\n",
    "from sklearn import tree"
   ]
  },
  {
   "cell_type": "code",
   "execution_count": 10,
   "id": "63c54fb7-841e-404d-854b-8eb2df6683ed",
   "metadata": {
    "tags": []
   },
   "outputs": [
    {
     "data": {
      "text/plain": [
       "array([0.5, 2.5])"
      ]
     },
     "execution_count": 10,
     "metadata": {},
     "output_type": "execute_result"
    }
   ],
   "source": [
    "from sklearn import tree\n",
    "#features (Predictors)\n",
    "X = [[0, 0], [2, 2]]\n",
    "#target variable for each data point in X\n",
    "y = [0.5, 2.5]\n",
    "#build decision tree\n",
    "clf = tree.DecisionTreeRegressor()\n",
    "#This trains the model on the provided data so that it learns how to predict values based on the features\n",
    "clf = clf.fit(X, y)\n",
    "#make prediction on new set of features\n",
    "clf.predict([[1, 1], [2,2]])"
   ]
  },
  {
   "cell_type": "code",
   "execution_count": null,
   "id": "531f5a15-9bde-445b-8cbc-911abcb49155",
   "metadata": {},
   "outputs": [],
   "source": []
  }
 ],
 "metadata": {
  "kernelspec": {
   "display_name": "Python 3 (ipykernel)",
   "language": "python",
   "name": "python3"
  },
  "language_info": {
   "codemirror_mode": {
    "name": "ipython",
    "version": 3
   },
   "file_extension": ".py",
   "mimetype": "text/x-python",
   "name": "python",
   "nbconvert_exporter": "python",
   "pygments_lexer": "ipython3",
   "version": "3.11.4"
  }
 },
 "nbformat": 4,
 "nbformat_minor": 5
}
