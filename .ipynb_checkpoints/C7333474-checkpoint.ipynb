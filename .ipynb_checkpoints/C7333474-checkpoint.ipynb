{
 "cells": [
  {
   "cell_type": "code",
   "execution_count": 1,
   "id": "3ca62b7d-6b05-44b5-914b-f2a1f220a672",
   "metadata": {
    "tags": []
   },
   "outputs": [
    {
     "data": {
      "text/html": [
       "<div>\n",
       "<style scoped>\n",
       "    .dataframe tbody tr th:only-of-type {\n",
       "        vertical-align: middle;\n",
       "    }\n",
       "\n",
       "    .dataframe tbody tr th {\n",
       "        vertical-align: top;\n",
       "    }\n",
       "\n",
       "    .dataframe thead th {\n",
       "        text-align: right;\n",
       "    }\n",
       "</style>\n",
       "<table border=\"1\" class=\"dataframe\">\n",
       "  <thead>\n",
       "    <tr style=\"text-align: right;\">\n",
       "      <th></th>\n",
       "      <th>User_ID,Gender,Age,Height,Weight,Duration,Heart_Rate,Body_Temp</th>\n",
       "    </tr>\n",
       "  </thead>\n",
       "  <tbody>\n",
       "    <tr>\n",
       "      <th>0</th>\n",
       "      <td>14733363,male,68,190,94,29,105,40.8</td>\n",
       "    </tr>\n",
       "    <tr>\n",
       "      <th>1</th>\n",
       "      <td>14861698,female,20,166,60,14,94,40.3</td>\n",
       "    </tr>\n",
       "    <tr>\n",
       "      <th>2</th>\n",
       "      <td>11179863,male,69,179,79,5,88,38.7</td>\n",
       "    </tr>\n",
       "    <tr>\n",
       "      <th>3</th>\n",
       "      <td>16180408,female,34,179,71,13,100,40.5</td>\n",
       "    </tr>\n",
       "    <tr>\n",
       "      <th>4</th>\n",
       "      <td>17771927,female,27,154,58,10,81,39.8</td>\n",
       "    </tr>\n",
       "  </tbody>\n",
       "</table>\n",
       "</div>"
      ],
      "text/plain": [
       "  User_ID,Gender,Age,Height,Weight,Duration,Heart_Rate,Body_Temp\n",
       "0                14733363,male,68,190,94,29,105,40.8            \n",
       "1               14861698,female,20,166,60,14,94,40.3            \n",
       "2                  11179863,male,69,179,79,5,88,38.7            \n",
       "3              16180408,female,34,179,71,13,100,40.5            \n",
       "4               17771927,female,27,154,58,10,81,39.8            "
      ]
     },
     "execution_count": 1,
     "metadata": {},
     "output_type": "execute_result"
    }
   ],
   "source": [
    "# Question 1\n",
    "#Reading the Data Set\n",
    "import pandas as pd\n",
    "dataset = pd.read_csv('DatasetA-DescriptiveStats.csv', sep=';', na_values=\".\")\n",
    "dataset.head(5)"
   ]
  },
  {
   "cell_type": "code",
   "execution_count": 11,
   "id": "efc31f09-f22c-4120-8967-9348656da0c5",
   "metadata": {
    "tags": []
   },
   "outputs": [
    {
     "name": "stdout",
     "output_type": "stream",
     "text": [
      "p value = 0.891852\n",
      "t value = -0.136559\n",
      "The null hypothesis is accepted\n"
     ]
    }
   ],
   "source": [
    "# For 2 Sample 2-tailed T-test, comparing Subject1 and Subject3.\n",
    "\n",
    "\n",
    "import pandas as pd\n",
    "from scipy import stats\n",
    "\n",
    "dataset = pd.read_excel('DatasetB-InferentialStats.xlsx', na_values=\".\")\n",
    "subject_one = dataset['Subject1']\n",
    "subject_three = dataset['Subject3']\n",
    "\n",
    "\n",
    "t2, p = stats.ttest_ind(subject_one, subject_three)\n",
    "\n",
    "#two-tail 2-sample t-test\n",
    "alpha_half = 0.025 #alpha is 0.05 or level of confidence is 95%\n",
    "print(\"p value = {:g}\".format(p))\n",
    "print(\"t value = {:g}\". format(t2))\n",
    "\n",
    "if p < alpha_half:  # null hypothesis: x comes from a normal distribution\n",
    "    print(\"The null hypothesis can be rejected\")\n",
    "else:\n",
    "    print(\"The null hypothesis is accepted\")\n"
   ]
  },
  {
   "cell_type": "code",
   "execution_count": 27,
   "id": "03635d30-ddf6-4d4c-b543-754273b4bda1",
   "metadata": {
    "tags": []
   },
   "outputs": [
    {
     "name": "stdout",
     "output_type": "stream",
     "text": [
      "   Student_ID Group  Subject1  Subject2  Subject3  Subject4  Subject5\n",
      "0         ID1     A        40        65        44        12        66\n",
      "1         ID2     A        20        89        66        13        66\n",
      "2         ID3     B        56        90        88        16        78\n",
      "3         ID4     B        89        34        99        67        77\n",
      "4         ID5     C        90        56        87        68        93\n",
      "5         ID6     C       100        78        84        69        92\n",
      "6         ID7     A        23        67        34        98        12\n",
      "7         ID8     A        50        23        39        96        20\n",
      "8         ID9     B        60        12        20        90        30\n",
      "9        ID10     B        70        46        23        86        40\n",
      "10       ID11     C        10        48        41        82        44\n",
      "11       ID12     C        34        78        47        81        66\n",
      "12       ID13     A        89        65        87        46        64\n",
      "13       ID14     A        90        64        67        59        76\n",
      "14       ID15     B        98        53        65        78        45\n",
      "15       ID16     B        25        58        64        35        88\n",
      "16       ID17     C        67        22        79        30        87\n",
      "17       ID18     C        23        44        70        23        34\n",
      "18       ID19     A        45        59        75        43        45\n",
      "19       ID20     A        66        90        34        45        66\n",
      "20       ID21     B        78       100        36        66        78\n",
      "21       ID22     B        45        23        39        44        55\n",
      "22       ID23     C        56        44        23        55        22\n",
      "23       ID24     C        78        66        55        36        11\n",
      "24       ID25     A        90        77        66        39        22\n",
      "25       ID26     A        12        90        77        54        56\n",
      "26       ID27     B        34        45        88        59        67\n",
      "27       ID28     B        56        34        90        23        87\n",
      "28       ID29     C        56        23        23        26        65\n",
      "29       ID30     C        78        12        45        78        23\n",
      "\n",
      "\n",
      "Pearson Standard Correlation Coefficient Matrix\n",
      "          Subject1  Subject2  Subject3  Subject4  Subject5\n",
      "Subject1  1.000000 -0.045591  0.192484  0.145147  0.144126\n",
      "Subject2 -0.045591  1.000000  0.194065 -0.208353  0.232005\n",
      "Subject3  0.192484  0.194065  1.000000 -0.337761  0.533035\n",
      "Subject4  0.145147 -0.208353 -0.337761  1.000000 -0.349937\n",
      "Subject5  0.144126  0.232005  0.533035 -0.349937  1.000000\n",
      "\n",
      "\n"
     ]
    },
    {
     "name": "stderr",
     "output_type": "stream",
     "text": [
      "C:\\Users\\Solomon\\AppData\\Local\\Temp\\ipykernel_30924\\120027516.py:16: FutureWarning: The default value of numeric_only in DataFrame.corr is deprecated. In a future version, it will default to False. Select only valid columns or specify the value of numeric_only to silence this warning.\n",
      "  correlation = df.corr()\n"
     ]
    },
    {
     "data": {
      "image/png": "[encoded data removed]",
      "text/plain": [
       "<Figure size 1100x900 with 2 Axes>"
      ]
     },
     "metadata": {},
     "output_type": "display_data"
    }
   ],
   "source": [
    "# Pearson's Correlation  matrix (Heatmap)\n",
    "# Correlation heatmap using Seaborn\n",
    "#Seaborn for correlation heatmaps\n",
    "\n",
    "import numpy as np\n",
    "import pandas as pd\n",
    "import seaborn as sns\n",
    "import matplotlib.pyplot as plt\n",
    " \n",
    "#read in the pima-indians-diabetese.xlsx dataset\n",
    "dataset = pd.read_excel('DatasetB-InferentialStats.xlsx')   \n",
    "df = pd.DataFrame(dataset)\n",
    "print (df)\n",
    " \n",
    "#create a correlation matrix for all the column sets except the target variable\n",
    "correlation = df.corr()\n",
    "print(\"\\n\")\n",
    "print(\"Pearson Standard Correlation Coefficient Matrix\")\n",
    "print(correlation)\n",
    "print(\"\\n\")\n",
    "\n",
    "#Set up matplotlib figure\n",
    "f, ax = plt.subplots(figsize=(11, 9))\n",
    " \n",
    "#Set up a seaborn heatmap\n",
    "#seaborne aesthetics https://seaborn.pydata.org/tutorial/aesthetics.html \n",
    "sns.set_style(\"white\")\n",
    " \n",
    "# Generate a custom diverging colormap\n",
    "cmap = sns.diverging_palette(230, 20, as_cmap=True)\n",
    " \n",
    "# Draw the heatmap with the mask and correct aspect ratio\n",
    "heatmap = sns.heatmap(correlation, cmap='YlGnBu',annot=True, vmin=-1, vmax=1, center=0,\n",
    "            square=True, linewidths=.5, cbar_kws={\"shrink\": .5})\n",
    "plt.show()"
   ]
  },
  {
   "cell_type": "code",
   "execution_count": 19,
   "id": "27c6de13-baf5-4428-a629-75ab768590b1",
   "metadata": {
    "tags": []
   },
   "outputs": [
    {
     "name": "stdout",
     "output_type": "stream",
     "text": [
      "F Value  = 0.274164 \n",
      "P Value  = 0.760862 \n",
      "The null hypothesis is accepted\n"
     ]
    }
   ],
   "source": [
    "# For One-Way ANOVA\n",
    "import pandas as pd\n",
    "import scipy.stats as stats\n",
    "\n",
    "dataset = pd.read_excel(\"DatasetB-InferentialStats.xlsx\")\n",
    "fvalue, pvalue = stats.f_oneway(dataset[\"Subject2\"], dataset[\"Subject3\"],dataset[\"Subject4\"])\n",
    "print(\"F Value  = {:g} \".format(fvalue))\n",
    "print(\"P Value  = {:g} \".format(pvalue))\n",
    "\n",
    "alpha = 0.05\n",
    "\n",
    "if pvalue < alpha:  # null hypothesis: x comes from a normal distribution\n",
    "    print(\"The null hypothesis can be rejected\")\n",
    "else:\n",
    "    print(\"The null hypothesis is accepted\")"
   ]
  },
  {
   "cell_type": "code",
   "execution_count": 2,
   "id": "04b8a7db-fe2a-45e4-98f9-a447a8d2201e",
   "metadata": {
    "tags": []
   },
   "outputs": [
    {
     "ename": "NameError",
     "evalue": "name 'pd' is not defined",
     "output_type": "error",
     "traceback": [
      "\u001b[1;31m---------------------------------------------------------------------------\u001b[0m",
      "\u001b[1;31mNameError\u001b[0m                                 Traceback (most recent call last)",
      "Cell \u001b[1;32mIn[2], line 2\u001b[0m\n\u001b[0;32m      1\u001b[0m \u001b[38;5;66;03m#Scatter Plot\u001b[39;00m\n\u001b[1;32m----> 2\u001b[0m df \u001b[38;5;241m=\u001b[39m pd\u001b[38;5;241m.\u001b[39mread_csv(\u001b[38;5;124m'\u001b[39m\u001b[38;5;124mDatasetA-DescriptiveStats.csv\u001b[39m\u001b[38;5;124m'\u001b[39m)\n\u001b[0;32m      3\u001b[0m fd \u001b[38;5;241m=\u001b[39m pd\u001b[38;5;241m.\u001b[39mDataFrame(df)\n\u001b[0;32m      4\u001b[0m plt\u001b[38;5;241m.\u001b[39mscatter(fd[\u001b[38;5;124m'\u001b[39m\u001b[38;5;124mWeight\u001b[39m\u001b[38;5;124m'\u001b[39m], fd[\u001b[38;5;124m'\u001b[39m\u001b[38;5;124mAge\u001b[39m\u001b[38;5;124m'\u001b[39m]);\n",
      "\u001b[1;31mNameError\u001b[0m: name 'pd' is not defined"
     ]
    }
   ],
   "source": [
    "#Scatter Plot\n",
    "df = pd.read_csv('DatasetA-DescriptiveStats.csv')\n",
    "fd = pd.DataFrame(df)\n",
    "plt.scatter(fd['Weight'], fd['Age']);\n",
    "plt.title(\" Graph depecting the relationship between height and Age\", fontsize = 20)\n",
    "plt.xlabel(\"Age\", labelpad=20, color='blue')\n",
    "plt.ylabel(\"Height\", labelpad=20, color='black')\n",
    "\n",
    "plt.grid()\n",
    "plt.show()"
   ]
  },
  {
   "cell_type": "code",
   "execution_count": 24,
   "id": "9adee8f1-2f6e-45c3-b89e-11f570f9d9ba",
   "metadata": {
    "tags": []
   },
   "outputs": [
    {
     "data": {
      "text/html": [
       "<div>\n",
       "<style scoped>\n",
       "    .dataframe tbody tr th:only-of-type {\n",
       "        vertical-align: middle;\n",
       "    }\n",
       "\n",
       "    .dataframe tbody tr th {\n",
       "        vertical-align: top;\n",
       "    }\n",
       "\n",
       "    .dataframe thead th {\n",
       "        text-align: right;\n",
       "    }\n",
       "</style>\n",
       "<table border=\"1\" class=\"dataframe\">\n",
       "  <thead>\n",
       "    <tr style=\"text-align: right;\">\n",
       "      <th></th>\n",
       "      <th>Age</th>\n",
       "      <th>Height</th>\n",
       "      <th>Weight</th>\n",
       "      <th>Duration</th>\n",
       "      <th>Heart_Rate</th>\n",
       "      <th>Body_Temp</th>\n",
       "    </tr>\n",
       "  </thead>\n",
       "  <tbody>\n",
       "    <tr>\n",
       "      <th>count</th>\n",
       "      <td>15000.000000</td>\n",
       "      <td>15000.000000</td>\n",
       "      <td>15000.000000</td>\n",
       "      <td>15000.000000</td>\n",
       "      <td>15000.000000</td>\n",
       "      <td>15000.000000</td>\n",
       "    </tr>\n",
       "    <tr>\n",
       "      <th>mean</th>\n",
       "      <td>42.789800</td>\n",
       "      <td>174.465133</td>\n",
       "      <td>74.966867</td>\n",
       "      <td>15.530600</td>\n",
       "      <td>95.518533</td>\n",
       "      <td>40.025453</td>\n",
       "    </tr>\n",
       "    <tr>\n",
       "      <th>std</th>\n",
       "      <td>16.980264</td>\n",
       "      <td>14.258114</td>\n",
       "      <td>15.035657</td>\n",
       "      <td>8.319203</td>\n",
       "      <td>9.583328</td>\n",
       "      <td>0.779230</td>\n",
       "    </tr>\n",
       "    <tr>\n",
       "      <th>min</th>\n",
       "      <td>20.000000</td>\n",
       "      <td>123.000000</td>\n",
       "      <td>36.000000</td>\n",
       "      <td>1.000000</td>\n",
       "      <td>67.000000</td>\n",
       "      <td>37.100000</td>\n",
       "    </tr>\n",
       "    <tr>\n",
       "      <th>25%</th>\n",
       "      <td>28.000000</td>\n",
       "      <td>164.000000</td>\n",
       "      <td>63.000000</td>\n",
       "      <td>8.000000</td>\n",
       "      <td>88.000000</td>\n",
       "      <td>39.600000</td>\n",
       "    </tr>\n",
       "    <tr>\n",
       "      <th>50%</th>\n",
       "      <td>39.000000</td>\n",
       "      <td>175.000000</td>\n",
       "      <td>74.000000</td>\n",
       "      <td>16.000000</td>\n",
       "      <td>96.000000</td>\n",
       "      <td>40.200000</td>\n",
       "    </tr>\n",
       "    <tr>\n",
       "      <th>75%</th>\n",
       "      <td>56.000000</td>\n",
       "      <td>185.000000</td>\n",
       "      <td>87.000000</td>\n",
       "      <td>23.000000</td>\n",
       "      <td>103.000000</td>\n",
       "      <td>40.600000</td>\n",
       "    </tr>\n",
       "    <tr>\n",
       "      <th>max</th>\n",
       "      <td>79.000000</td>\n",
       "      <td>222.000000</td>\n",
       "      <td>132.000000</td>\n",
       "      <td>30.000000</td>\n",
       "      <td>128.000000</td>\n",
       "      <td>41.500000</td>\n",
       "    </tr>\n",
       "  </tbody>\n",
       "</table>\n",
       "</div>"
      ],
      "text/plain": [
       "                Age        Height        Weight      Duration    Heart_Rate  \\\n",
       "count  15000.000000  15000.000000  15000.000000  15000.000000  15000.000000   \n",
       "mean      42.789800    174.465133     74.966867     15.530600     95.518533   \n",
       "std       16.980264     14.258114     15.035657      8.319203      9.583328   \n",
       "min       20.000000    123.000000     36.000000      1.000000     67.000000   \n",
       "25%       28.000000    164.000000     63.000000      8.000000     88.000000   \n",
       "50%       39.000000    175.000000     74.000000     16.000000     96.000000   \n",
       "75%       56.000000    185.000000     87.000000     23.000000    103.000000   \n",
       "max       79.000000    222.000000    132.000000     30.000000    128.000000   \n",
       "\n",
       "          Body_Temp  \n",
       "count  15000.000000  \n",
       "mean      40.025453  \n",
       "std        0.779230  \n",
       "min       37.100000  \n",
       "25%       39.600000  \n",
       "50%       40.200000  \n",
       "75%       40.600000  \n",
       "max       41.500000  "
      ]
     },
     "execution_count": 24,
     "metadata": {},
     "output_type": "execute_result"
    }
   ],
   "source": [
    "#Performing Descriptive Analysis on DatasetA-DescriptiveStats.csv data set\n",
    "import pandas as pd\n",
    "dataset = pd.read_csv('DatasetA-DescriptiveStats.csv', na_values=\".\")\n",
    "dataset[[\"Gender\", \"Age\", \"Height\", \"Weight\", \"Duration\", \"Heart_Rate\", \"Body_Temp\"]].describe()"
   ]
  },
  {
   "cell_type": "code",
   "execution_count": null,
   "id": "25e746b3-8fb2-49a6-b42b-e5da0effb841",
   "metadata": {},
   "outputs": [],
   "source": []
  }
 ],
 "metadata": {
  "kernelspec": {
   "display_name": "Python 3 (ipykernel)",
   "language": "python",
   "name": "python3"
  },
  "language_info": {
   "codemirror_mode": {
    "name": "ipython",
    "version": 3
   },
   "file_extension": ".py",
   "mimetype": "text/x-python",
   "name": "python",
   "nbconvert_exporter": "python",
   "pygments_lexer": "ipython3",
   "version": "3.11.4"
  }
 },
 "nbformat": 4,
 "nbformat_minor": 5
}
