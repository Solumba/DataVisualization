{
 "cells": [
  {
   "cell_type": "code",
   "execution_count": 2,
   "id": "ec37c3d4-f6bb-40a0-9b63-b36dbaff165d",
   "metadata": {
    "tags": []
   },
   "outputs": [],
   "source": [
    "#Linear Regression\n",
    "import numpy as np\n",
    "from sklearn.linear_model import LinearRegression"
   ]
  },
  {
   "cell_type": "markdown",
   "id": "e511778d-2d53-4fea-a2ab-6eb042984690",
   "metadata": {},
   "source": [
    "X = np.array([[1, 1], [1, 2], [2, 2], [2, 3]])\n",
    "\n",
    "This represents a 2D array or matrix. Each row contains two values (features), and there are four rows.\n",
    "For example, the first row [1, 1] could represent a data point with two features: x_0 = 1 and x_1 = 1.\n",
    "\n",
    "This is the linear equation we want the model to learn.\n",
    "# y = 5 * x_0 + 6 * x_1 + 3\n",
    "The goal of linear regression is to find the coefficients (5, 6) and the intercept (3) that best fit the given data.\n",
    "In simple terms, the code is setting up a scenario where you have input data (X) with corresponding output values (y). The model's task is to learn the relationship between the input features and the output values based on the provided linear equation. The coefficients and intercept will be adjusted during the training process to make predictions that are as close as possible to the given output values."
   ]
  },
  {
   "cell_type": "code",
   "execution_count": 3,
   "id": "af25292d-3fe1-4599-be9e-a83a436fd034",
   "metadata": {
    "tags": []
   },
   "outputs": [
    {
     "name": "stdout",
     "output_type": "stream",
     "text": [
      "1.0\n",
      "\n",
      "\n"
     ]
    }
   ],
   "source": [
    "#Representation of an array in numpy\n",
    "X = np.array([[1, 1], [1, 2], [2, 2], [2, 3]])\n",
    " \n",
    "# y = 5 * x_0 + 6 * x_1 + 3\n",
    "#x_0 is the first element of each pair; #x_1 is the second element\n",
    "#np.dot() is the product of two arrays\n",
    "#Note 5 and 6 are the coefficients for the equation y\n",
    " \n",
    "y = np.dot(X, np.array([3, 7])) + 3\n",
    "reg = LinearRegression().fit(X, y) #Fitting input X on output Y\n",
    "print(reg.score(X, y)) #goodness of fit score, how well the model fits the given data.\n",
    "print(\"\\n\")\n"
   ]
  },
  {
   "cell_type": "code",
   "execution_count": null,
   "id": "70c7e7d9-d058-47a0-bb14-7a3e6851e211",
   "metadata": {},
   "outputs": [],
   "source": []
  }
 ],
 "metadata": {
  "kernelspec": {
   "display_name": "Python 3 (ipykernel)",
   "language": "python",
   "name": "python3"
  },
  "language_info": {
   "codemirror_mode": {
    "name": "ipython",
    "version": 3
   },
   "file_extension": ".py",
   "mimetype": "text/x-python",
   "name": "python",
   "nbconvert_exporter": "python",
   "pygments_lexer": "ipython3",
   "version": "3.11.4"
  }
 },
 "nbformat": 4,
 "nbformat_minor": 5
}
