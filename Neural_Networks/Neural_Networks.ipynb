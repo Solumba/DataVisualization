{
 "cells": [
  {
   "cell_type": "markdown",
   "id": "8e7ee120-f6e8-4809-b46c-48cd0ee462fc",
   "metadata": {},
   "source": [
    "Multi-layered Perceptron (MLP)\n",
    "MLP is an example of Artificial Neural Network (ANN) and the simplest MLP model has 3 layers: input, hidden and output. We shall use MLP for classification. We would like to build an MLP Classifier model to predict the type of wine given a set of predictors."
   ]
  },
  {
   "cell_type": "code",
   "execution_count": null,
   "id": "eb8d57d9-da6d-49b4-8d29-caec6f316236",
   "metadata": {},
   "outputs": [],
   "source": []
  }
 ],
 "metadata": {
  "kernelspec": {
   "display_name": "Python 3 (ipykernel)",
   "language": "python",
   "name": "python3"
  },
  "language_info": {
   "codemirror_mode": {
    "name": "ipython",
    "version": 3
   },
   "file_extension": ".py",
   "mimetype": "text/x-python",
   "name": "python",
   "nbconvert_exporter": "python",
   "pygments_lexer": "ipython3",
   "version": "3.11.4"
  }
 },
 "nbformat": 4,
 "nbformat_minor": 5
}
