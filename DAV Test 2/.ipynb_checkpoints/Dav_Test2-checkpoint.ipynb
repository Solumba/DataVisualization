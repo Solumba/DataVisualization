{
 "cells": [
  {
   "cell_type": "code",
   "execution_count": 2,
   "id": "0ee281be-18f1-467b-8088-97fd9de2dece",
   "metadata": {
    "tags": []
   },
   "outputs": [],
   "source": [
    "# Load libraries\n",
    "import pandas as pd\n",
    "from sklearn.tree import DecisionTreeClassifier # Import Decision Tree Classifier\n",
    "from sklearn.model_selection import train_test_split # Import train_test_split function\n",
    "from sklearn import metrics #Import scikit-learn metrics module for accuracy calculation\n",
    "from sklearn.metrics import confusion_matrix\n",
    "from sklearn.metrics import classification_report"
   ]
  },
  {
   "cell_type": "code",
   "execution_count": 5,
   "id": "1b4cb5d0-8c0c-442b-a7ac-29f5ba558e99",
   "metadata": {
    "tags": []
   },
   "outputs": [
    {
     "name": "stdout",
     "output_type": "stream",
     "text": [
      "  card  reports       age  income     share  expenditure owner selfemp  \\\n",
      "0  yes        0  37.66667  4.5200  0.033270   124.983300   yes      no   \n",
      "1  yes        0  33.25000  2.4200  0.005217     9.854167    no      no   \n",
      "2  yes        0  33.66667  4.5000  0.004156    15.000000   yes      no   \n",
      "3  yes        0  30.50000  2.5400  0.065214   137.869200    no      no   \n",
      "4  yes        0  32.16667  9.7867  0.067051   546.503300   yes      no   \n",
      "\n",
      "   dependents  months  majorcards  active  \n",
      "0           3      54           1      12  \n",
      "1           3      34           1      13  \n",
      "2           4      58           1       5  \n",
      "3           0      25           1       7  \n",
      "4           2      64           1       5  \n",
      "\n",
      "\n",
      "Accuracy for 70% training set and 30% test set : 0.9823232323232324\n",
      "              precision    recall  f1-score   support\n",
      "\n",
      "          no       0.93      0.99      0.96        81\n",
      "         yes       1.00      0.98      0.99       315\n",
      "\n",
      "    accuracy                           0.98       396\n",
      "   macro avg       0.96      0.98      0.97       396\n",
      "weighted avg       0.98      0.98      0.98       396\n",
      "\n",
      "\n",
      "\n",
      "[[ 80   1]\n",
      " [  6 309]]\n",
      "\n",
      "\n",
      "true negative:  80\n",
      "false negative:  6\n",
      "true positive:  309\n",
      "false positive:  1\n"
     ]
    }
   ],
   "source": [
    "#Confusion Matrix\n",
    "\n",
    "#Read in the dataset and display\n",
    "dataset = pd.read_excel('DT_creditcard.xlsx')\n",
    "print(dataset.head())\n",
    "\n",
    "#Feature selection: split the dataset into features (independent variables) and target (dependent variable)\n",
    "feature_cols = ['reports', 'income', 'expenditure'] #columns is the excel table or dataset \n",
    "X = dataset[feature_cols] # Features\n",
    "Y = dataset['card'] # Target variable\n",
    "\n",
    "#Function for split dataset will have 3 parameters: features, target, test_set size\n",
    "# Split dataset into training set and test set\n",
    "X_train, X_test, y_train, y_test = train_test_split(X, Y, test_size=0.3, random_state=1) # 70% training and 30% test\n",
    "\n",
    "\n",
    "#Build Decision Tree Model using Scikit Learn\n",
    "# Create Decision Tree classifer object\n",
    "clf = DecisionTreeClassifier()\n",
    "\n",
    "# Train Decision Tree Classifer\n",
    "clf = clf.fit(X_train,y_train)\n",
    "\n",
    "#Predict the response for test dataset\n",
    "y_pred = clf.predict(X_test)\n",
    "\n",
    "\n",
    "#Evaluate the accuracy of the model (or classifier) for prediction\n",
    "# Model Accuracy, how often is the classifier correct?\n",
    "print(\"\\n\")\n",
    "print(\"Accuracy for 70% training set and 30% test set :\",\n",
    "          metrics.accuracy_score(y_test, y_pred))\n",
    "\n",
    "# Create a classification report\n",
    "report = classification_report(y_test, y_pred)\n",
    "\n",
    "# Print the classification report\n",
    "print(report)\n",
    "\n",
    "#Confusion matrix\n",
    "print(\"\\n\")\n",
    "print(confusion_matrix(y_test, y_pred))\n",
    "print(\"\\n\")\n",
    "\n",
    "cm = confusion_matrix(y_test, y_pred)\n",
    "tn = cm[0][0]\n",
    "fn = cm[1][0]\n",
    "tp = cm[1][1]\n",
    "fp = cm[0][1]\n",
    "\n",
    "print(\"true negative: \", tn)\n",
    "print(\"false negative: \", fn)\n",
    "print(\"true positive: \", tp)\n",
    "print(\"false positive: \", fp)"
   ]
  },
  {
   "cell_type": "code",
   "execution_count": null,
   "id": "f24a34e1-c513-4e9a-8348-716e962e3e56",
   "metadata": {},
   "outputs": [],
   "source": []
  }
 ],
 "metadata": {
  "kernelspec": {
   "display_name": "Python 3 (ipykernel)",
   "language": "python",
   "name": "python3"
  },
  "language_info": {
   "codemirror_mode": {
    "name": "ipython",
    "version": 3
   },
   "file_extension": ".py",
   "mimetype": "text/x-python",
   "name": "python",
   "nbconvert_exporter": "python",
   "pygments_lexer": "ipython3",
   "version": "3.11.4"
  }
 },
 "nbformat": 4,
 "nbformat_minor": 5
}
