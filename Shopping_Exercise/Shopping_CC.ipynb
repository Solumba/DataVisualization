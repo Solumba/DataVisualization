{
 "cells": [
  {
   "cell_type": "code",
   "execution_count": 4,
   "id": "f7c5233b-5174-4b06-8b55-2b4a2bf3a362",
   "metadata": {
    "tags": []
   },
   "outputs": [
    {
     "name": "stdout",
     "output_type": "stream",
     "text": [
      "Correlation between 'Milk' and 'Detergents_Paper' is: 0.6618156793591068\n",
      "Correlation between 'Detergents_Paper' and 'Delicassen' is: 0.06929129745837395\n",
      "Correlation between 'Milk' and 'Delicassen' is: 0.4063683161768717\n"
     ]
    }
   ],
   "source": [
    "import pandas as pd\n",
    "\n",
    "# Read data from the CSV file\n",
    "df = pd.read_csv(\"shopping.csv\")\n",
    "\n",
    "# Extract columns for correlation calculation\n",
    "column_0 = df[\"Milk\"]\n",
    "column_1 = df[\"Detergents_Paper\"]\n",
    "column_2 = df[\"Delicassen\"]\n",
    "\n",
    "# Calculate correlations\n",
    "correlation1 = column_0.corr(column_1)\n",
    "correlation2 = column_1.corr(column_2)\n",
    "correlation3 = column_0.corr(column_2)\n",
    "\n",
    "# Print correlations\n",
    "print(\"Correlation between 'Milk' and 'Detergents_Paper' is:\", correlation1)\n",
    "print(\"Correlation between 'Detergents_Paper' and 'Delicassen' is:\", correlation2)\n",
    "print(\"Correlation between 'Milk' and 'Delicassen' is:\", correlation3)"
   ]
  },
  {
   "cell_type": "code",
   "execution_count": null,
   "id": "cc927db7-85df-456f-a27c-742b3b473f36",
   "metadata": {},
   "outputs": [],
   "source": []
  }
 ],
 "metadata": {
  "kernelspec": {
   "display_name": "Python 3 (ipykernel)",
   "language": "python",
   "name": "python3"
  },
  "language_info": {
   "codemirror_mode": {
    "name": "ipython",
    "version": 3
   },
   "file_extension": ".py",
   "mimetype": "text/x-python",
   "name": "python",
   "nbconvert_exporter": "python",
   "pygments_lexer": "ipython3",
   "version": "3.11.4"
  }
 },
 "nbformat": 4,
 "nbformat_minor": 5
}
